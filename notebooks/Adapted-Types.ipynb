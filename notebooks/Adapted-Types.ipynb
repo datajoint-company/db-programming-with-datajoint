{
 "cells": [
  {
   "cell_type": "markdown",
   "metadata": {},
   "source": [
    "# User-defined Attribute Types\n",
    "\n",
    "**Purpose**: demonstrate using `dj.AttributeAdapter` for convenient storage of arbitrary data types in DataJoint table attributes."
   ]
  },
  {
   "cell_type": "markdown",
   "metadata": {},
   "source": [
    "Imagine I want store graph objects of type `networkx.Graph` in the form of edge lists. \n",
    "\n",
    "First, let's create a few graphs:"
   ]
  },
  {
   "cell_type": "code",
   "execution_count": 1,
   "metadata": {},
   "outputs": [
    {
     "data": {
      "image/png": "[encoded data removed]",
      "text/plain": [
       "<Figure size 1080x216 with 4 Axes>"
      ]
     },
     "metadata": {},
     "output_type": "display_data"
    }
   ],
   "source": [
    "%matplotlib inline\n",
    "from matplotlib import pyplot as plt\n",
    "import networkx as nx\n",
    "graphs = [nx.lollipop_graph(4, 2), nx.star_graph(5), nx.barbell_graph(3, 1), nx.cycle_graph(5)]\n",
    "\n",
    "fig, axx = plt.subplots(1, len(graphs) , figsize=(15, 3))\n",
    "for g, ax in zip(graphs, axx.flatten()):\n",
    "    plt.sca(ax)\n",
    "    nx.draw(g)"
   ]
  },
  {
   "cell_type": "markdown",
   "metadata": {},
   "source": [
    "Then we need to define an adapter object that convert target objects into an attribute type that datajoint can already store. The class must subclass `dj.AttributeAdapter` and define the property `attribute_type`, and methods `get` "
   ]
  },
  {
   "cell_type": "code",
   "execution_count": 2,
   "metadata": {},
   "outputs": [],
   "source": [
    "import datajoint as dj\n",
    "\n",
    "class GraphAdapter(dj.AttributeAdapter):\n",
    "    \n",
    "    attribute_type = 'longblob'   # this is how the attribute will be declared\n",
    "    \n",
    "    def get(self, obj):\n",
    "        return nx.Graph(obj)\n",
    "    \n",
    "    def put(self, obj):\n",
    "        # convert graph object into an edgelist\n",
    "        assert isinstance(obj, nx.Graph)\n",
    "        return list(obj.edges)\n",
    "\n",
    "# instantiate for use as a datajoint type\n",
    "graph = GraphAdapter()"
   ]
  },
  {
   "cell_type": "markdown",
   "metadata": {},
   "source": [
    "Now we can define a table that uses `graph` as its attribute type. These \"adapted types\" must be enclosed in angle brackets as in `<graph>`:"
   ]
  },
  {
   "cell_type": "code",
   "execution_count": 3,
   "metadata": {},
   "outputs": [
    {
     "name": "stdout",
     "output_type": "stream",
     "text": [
      "Connecting dimitri@localhost:3306\n"
     ]
    }
   ],
   "source": [
    "schema = dj.schema('test_graphs')"
   ]
  },
  {
   "cell_type": "code",
   "execution_count": 4,
   "metadata": {},
   "outputs": [],
   "source": [
    "@schema\n",
    "class Connectivity(dj.Manual):\n",
    "    definition = \"\"\"\n",
    "    cid : int\n",
    "    ---\n",
    "    connectivity : <graph>  # a networkx.Graph object \n",
    "    \"\"\"\n",
    "    "
   ]
  },
  {
   "cell_type": "code",
   "execution_count": 5,
   "metadata": {},
   "outputs": [],
   "source": [
    "Connectivity.insert((i, g) for i, g in enumerate(graphs))"
   ]
  },
  {
   "cell_type": "code",
   "execution_count": 6,
   "metadata": {},
   "outputs": [
    {
     "data": {
      "text/html": [
       "\n",
       "        \n",
       "        <style type=\"text/css\">\n",
       "            .Relation{\n",
       "                border-collapse:collapse;\n",
       "            }\n",
       "            .Relation th{\n",
       "                background: #A0A0A0; color: #ffffff; padding:4px; border:#f0e0e0 1px solid;\n",
       "                font-weight: normal; font-family: monospace; font-size: 100%;\n",
       "            }\n",
       "            .Relation td{\n",
       "                padding:4px; border:#f0e0e0 1px solid; font-size:100%;\n",
       "            }\n",
       "            .Relation tr:nth-child(odd){\n",
       "                background: #ffffff;\n",
       "            }\n",
       "            .Relation tr:nth-child(even){\n",
       "                background: #f3f1ff;\n",
       "            }\n",
       "            /* Tooltip container */\n",
       "            .djtooltip {\n",
       "            }\n",
       "            /* Tooltip text */\n",
       "            .djtooltip .djtooltiptext {\n",
       "                visibility: hidden;\n",
       "                width: 120px;\n",
       "                background-color: black;\n",
       "                color: #fff;\n",
       "                text-align: center;\n",
       "                padding: 5px 0;\n",
       "                border-radius: 6px;\n",
       "                /* Position the tooltip text - see examples below! */\n",
       "                position: absolute;\n",
       "                z-index: 1;\n",
       "            }\n",
       "            #primary {\n",
       "                font-weight: bold;\n",
       "                color: black;\n",
       "            }\n",
       "\n",
       "            #nonprimary {\n",
       "                font-weight: normal;\n",
       "                color: white;\n",
       "            }\n",
       "\n",
       "            /* Show the tooltip text when you mouse over the tooltip container */\n",
       "            .djtooltip:hover .djtooltiptext {\n",
       "                visibility: visible;\n",
       "            }\n",
       "        </style>\n",
       "        \n",
       "        <b></b>\n",
       "            <div style=\"max-height:1000px;max-width:1500px;overflow:auto;\">\n",
       "            <table border=\"1\" class=\"Relation\">\n",
       "                <thead> <tr style=\"text-align: right;\"> <th> <div class=\"djtooltip\">\n",
       "                                <p id=\"primary\">cid</p>\n",
       "                                <span class=\"djtooltiptext\"></span>\n",
       "                            </div></th><th><div class=\"djtooltip\">\n",
       "                                <p id=\"nonprimary\">connectivity</p>\n",
       "                                <span class=\"djtooltiptext\">a networkx.Graph object</span>\n",
       "                            </div> </th> </tr> </thead>\n",
       "                <tbody> <tr> <td>0</td>\n",
       "<td>=BLOB=</td></tr><tr><td>1</td>\n",
       "<td>=BLOB=</td></tr><tr><td>2</td>\n",
       "<td>=BLOB=</td></tr><tr><td>3</td>\n",
       "<td>=BLOB=</td> </tr> </tbody>\n",
       "            </table>\n",
       "            \n",
       "            <p>Total: 4</p></div>\n",
       "            "
      ],
      "text/plain": [
       "*cid    connectivi\n",
       "+-----+ +--------+\n",
       "0       =BLOB=    \n",
       "1       =BLOB=    \n",
       "2       =BLOB=    \n",
       "3       =BLOB=    \n",
       " (Total: 4)"
      ]
     },
     "execution_count": 6,
     "metadata": {},
     "output_type": "execute_result"
    }
   ],
   "source": [
    "Connectivity()"
   ]
  },
  {
   "cell_type": "code",
   "execution_count": 7,
   "metadata": {},
   "outputs": [],
   "source": [
    "g = Connectivity.fetch('connectivity')"
   ]
  },
  {
   "cell_type": "code",
   "execution_count": 8,
   "metadata": {},
   "outputs": [
    {
     "data": {
      "image/png": "[encoded data removed]",
      "text/plain": [
       "<Figure size 1080x216 with 4 Axes>"
      ]
     },
     "metadata": {},
     "output_type": "display_data"
    }
   ],
   "source": [
    "fig, axx = plt.subplots(1, len(graphs) , figsize=(15, 3))\n",
    "for g, ax in zip(graphs, axx.flatten()):\n",
    "    plt.sca(ax)\n",
    "    nx.draw(g)"
   ]
  },
  {
   "cell_type": "markdown",
   "metadata": {},
   "source": [
    "As another example, let's pack a positive fraction as a single uint64 number"
   ]
  },
  {
   "cell_type": "code",
   "execution_count": 9,
   "metadata": {},
   "outputs": [],
   "source": [
    "from fractions import Fraction"
   ]
  },
  {
   "cell_type": "code",
   "execution_count": 10,
   "metadata": {},
   "outputs": [
    {
     "data": {
      "text/plain": [
       "Fraction(12, 7)"
      ]
     },
     "execution_count": 10,
     "metadata": {},
     "output_type": "execute_result"
    }
   ],
   "source": [
    "a = Fraction(3,7) / Fraction(2,8)\n",
    "a"
   ]
  },
  {
   "cell_type": "code",
   "execution_count": 11,
   "metadata": {},
   "outputs": [
    {
     "data": {
      "text/plain": [
       "7"
      ]
     },
     "execution_count": 11,
     "metadata": {},
     "output_type": "execute_result"
    }
   ],
   "source": [
    "a.denominator"
   ]
  },
  {
   "cell_type": "code",
   "execution_count": null,
   "metadata": {},
   "outputs": [],
   "source": [
    "class FractionAdapter(dj.AttributeAdapter):\n",
    "    \n",
    "    attribute_type = 'bigint unsigned'\n",
    "    \n",
    "    @staticmethod\n",
    "    def put(fraction):\n",
    "        assert isinstance(fraction, Fraction)\n",
    "        assert 0 <= fraction.denominator < (1 << 32)-1 \n",
    "        assert 0 <= fraction.numerator < (1 << 32)-1 \n",
    "        return (fraction.numerator << 32) + fraction.denominator\n",
    "    \n",
    "    @staticmethod\n",
    "    def get(uint64):\n",
    "        return Fraction(uint64 >> 32, uint64 % (1 << 32))\n",
    "    \n",
    "frac = FractionAdapter()\n",
    "        \n",
    "        \n",
    "        "
   ]
  },
  {
   "cell_type": "code",
   "execution_count": null,
   "metadata": {},
   "outputs": [],
   "source": [
    "@schema \n",
    "class Frac(dj.Manual):\n",
    "    definition = \"\"\"\n",
    "    frac : <frac>    \n",
    "    \"\"\""
   ]
  },
  {
   "cell_type": "code",
   "execution_count": null,
   "metadata": {},
   "outputs": [],
   "source": [
    "Frac.insert1([Fraction(1,3)])\n",
    "Frac.insert1([Fraction(2,3)])"
   ]
  },
  {
   "cell_type": "code",
   "execution_count": null,
   "metadata": {},
   "outputs": [],
   "source": [
    "Frac.fetch(as_dict=True)"
   ]
  }
 ],
 "metadata": {
  "kernelspec": {
   "display_name": "Python 3",
   "language": "python",
   "name": "python3"
  },
  "language_info": {
   "codemirror_mode": {
    "name": "ipython",
    "version": 3
   },
   "file_extension": ".py",
   "mimetype": "text/x-python",
   "name": "python",
   "nbconvert_exporter": "python",
   "pygments_lexer": "ipython3",
   "version": "3.6.7"
  }
 },
 "nbformat": 4,
 "nbformat_minor": 2
}
