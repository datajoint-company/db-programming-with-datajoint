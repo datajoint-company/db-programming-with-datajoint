{
 "cells": [
  {
   "cell_type": "markdown",
   "metadata": {},
   "source": [
    "# Adapted Attribute Type for quantities\n",
    "\n",
    "**Purpose**: demonstrate using `dj.AttributeAdapter` for convenient storage of custom datatypes, e.g. objects from the quantities module."
   ]
  },
  {
   "cell_type": "markdown",
   "metadata": {},
   "source": [
    "Let's create a table with attribute `volume` storing values of type `mL` from the [`quantities`](https://pypi.org/project/quantities/) library."
   ]
  },
  {
   "cell_type": "code",
   "execution_count": 1,
   "metadata": {},
   "outputs": [
    {
     "name": "stdout",
     "output_type": "stream",
     "text": [
      "0.12.7\n"
     ]
    }
   ],
   "source": [
    "import datajoint as dj\n",
    "print(dj.__version__)"
   ]
  },
  {
   "cell_type": "code",
   "execution_count": 2,
   "metadata": {},
   "outputs": [],
   "source": [
    "# The following is necessary in DataJoint version 0.12.* \n",
    "# while adapted types are in beta testing.\n",
    "dj.errors._switch_adapted_types(True)  "
   ]
  },
  {
   "cell_type": "code",
   "execution_count": 3,
   "metadata": {},
   "outputs": [],
   "source": [
    "import quantities as pq\n",
    "\n",
    "class Milliliter(dj.AttributeAdapter):\n",
    "    attribute_type = 'float'\n",
    "        \n",
    "    def put(self, obj: pq.Quantity) -> float:\n",
    "        assert isinstance(obj, pq.Quantity)\n",
    "        obj = obj.rescale(pq.mL)\n",
    "        return obj.item()\n",
    "\n",
    "    def get(self, value) -> str:\n",
    "        return value * pq.mL\n",
    "\n",
    "mL = Milliliter()"
   ]
  },
  {
   "cell_type": "markdown",
   "metadata": {},
   "source": [
    "Then we need to define an adapter object that convert target objects into an attribute type that datajoint can already store. The class must subclass `dj.AttributeAdapter` and define the property `attribute_type`, and methods `get` and `put`. These methods translate the adapted data type `nx.Graph` into a representation that can be stored in datajoint, a `longblob` storing the edge list."
   ]
  },
  {
   "cell_type": "markdown",
   "metadata": {},
   "source": [
    "Now we can define a table that uses `graph` as its attribute type. These \"adapted types\" must be enclosed in angle brackets as in `<graph>`:"
   ]
  },
  {
   "cell_type": "code",
   "execution_count": 4,
   "metadata": {},
   "outputs": [
    {
     "name": "stdout",
     "output_type": "stream",
     "text": [
      "Connecting dbadmin@dimitri-proj0.cda95qzjbnvs.us-east-1.rds.amazonaws.com:3306\n",
      "Proceed to delete entire schema `test_quantities`? [yes, No]: yes\n"
     ]
    }
   ],
   "source": [
    "schema = dj.schema('test_quantities')\n",
    "schema.drop()  # drop previous contents\n",
    "schema = dj.schema('test_quantities')  # create de novo"
   ]
  },
  {
   "cell_type": "code",
   "execution_count": 5,
   "metadata": {},
   "outputs": [],
   "source": [
    "@schema\n",
    "class Quantity(dj.Manual):\n",
    "    definition = \"\"\"\n",
    "    quant_id : int\n",
    "    ---\n",
    "    volume : <mL>  \n",
    "    \"\"\""
   ]
  },
  {
   "cell_type": "code",
   "execution_count": 6,
   "metadata": {},
   "outputs": [
    {
     "name": "stdout",
     "output_type": "stream",
     "text": [
      "quant_id             : int                          \n",
      "---\n",
      "volume               : <mL>                         \n",
      "\n"
     ]
    }
   ],
   "source": [
    "Quantity.describe();"
   ]
  },
  {
   "cell_type": "markdown",
   "metadata": {},
   "source": [
    "### Now, populate the table with our example graphs and fetch them as objects\n",
    "Inserting the graphs as objects"
   ]
  },
  {
   "cell_type": "code",
   "execution_count": 8,
   "metadata": {},
   "outputs": [],
   "source": [
    "Quantity().insert([\n",
    "    (1, 2.3 * pq.mL),\n",
    "    (2, 3.5 * pq.mL)])"
   ]
  },
  {
   "cell_type": "code",
   "execution_count": 9,
   "metadata": {
    "scrolled": false
   },
   "outputs": [
    {
     "data": {
      "text/plain": [
       "array([array(2.3) * mL, array(3.5) * mL], dtype=object)"
      ]
     },
     "execution_count": 9,
     "metadata": {},
     "output_type": "execute_result"
    }
   ],
   "source": [
    "q = Quantity.fetch('volume')\n",
    "q"
   ]
  },
  {
   "cell_type": "code",
   "execution_count": 13,
   "metadata": {},
   "outputs": [],
   "source": [
    "d = (3.5 * pq.mL).dtype"
   ]
  },
  {
   "cell_type": "code",
   "execution_count": 14,
   "metadata": {},
   "outputs": [
    {
     "data": {
      "text/plain": [
       "dtype('float64')"
      ]
     },
     "execution_count": 14,
     "metadata": {},
     "output_type": "execute_result"
    }
   ],
   "source": [
    "d"
   ]
  },
  {
   "cell_type": "code",
   "execution_count": null,
   "metadata": {},
   "outputs": [],
   "source": []
  }
 ],
 "metadata": {
  "kernelspec": {
   "display_name": "Python 3",
   "language": "python",
   "name": "python3"
  },
  "language_info": {
   "codemirror_mode": {
    "name": "ipython",
    "version": 3
   },
   "file_extension": ".py",
   "mimetype": "text/x-python",
   "name": "python",
   "nbconvert_exporter": "python",
   "pygments_lexer": "ipython3",
   "version": "3.8.5"
  }
 },
 "nbformat": 4,
 "nbformat_minor": 2
}
