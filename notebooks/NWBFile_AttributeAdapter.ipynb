{
 "cells": [
  {
   "cell_type": "code",
   "execution_count": 1,
   "metadata": {},
   "outputs": [],
   "source": [
    "%matplotlib inline\n",
    "import os"
   ]
  },
  {
   "cell_type": "code",
   "execution_count": 2,
   "metadata": {},
   "outputs": [],
   "source": [
    "os.environ['DJ_SUPPORT_ADAPTED_TYPES'] = 'TRUE'\n",
    "os.environ['DJ_SUPPORT_FILEPATH_MANAGEMENT'] = 'TRUE'"
   ]
  },
  {
   "cell_type": "code",
   "execution_count": 3,
   "metadata": {},
   "outputs": [],
   "source": [
    "import datajoint as dj"
   ]
  },
  {
   "cell_type": "code",
   "execution_count": 4,
   "metadata": {},
   "outputs": [],
   "source": [
    "dj.config['database.host'] = 'workshop-db.datajoint.io'"
   ]
  },
  {
   "cell_type": "code",
   "execution_count": 6,
   "metadata": {},
   "outputs": [
    {
     "name": "stdout",
     "output_type": "stream",
     "text": [
      "Please enter DataJoint username: thinh\n",
      "Please enter DataJoint password: ········\n",
      "Connecting thinh@workshop-db.datajoint.io:3306\n"
     ]
    }
   ],
   "source": [
    "dj.conn().connect()"
   ]
  },
  {
   "cell_type": "code",
   "execution_count": 7,
   "metadata": {},
   "outputs": [],
   "source": [
    "dj.config['enable_python_native_blobs'] = True\n",
    "dj.config['display.limit'] = 5"
   ]
  },
  {
   "cell_type": "code",
   "execution_count": 8,
   "metadata": {},
   "outputs": [],
   "source": [
    "import pynwb\n",
    "from pynwb import NWBFile, NWBHDF5IO\n",
    "from datetime import datetime\n",
    "from dateutil.tz import tzlocal\n",
    "import json\n",
    "import numpy as np\n",
    "import pathlib"
   ]
  },
  {
   "cell_type": "code",
   "execution_count": 9,
   "metadata": {},
   "outputs": [],
   "source": [
    "lab = dj.create_virtual_module('lab', 'djneuro_sfn19_lab')\n",
    "experiment = dj.create_virtual_module('experiment', 'djneuro_sfn19_experiment')\n",
    "ephys = dj.create_virtual_module('ephys', 'djneuro_sfn19_ephys')\n",
    "psth = dj.create_virtual_module('psth', 'djneuro_sfn19_psth')"
   ]
  },
  {
   "cell_type": "code",
   "execution_count": 10,
   "metadata": {},
   "outputs": [],
   "source": [
    "import warnings\n",
    "warnings.filterwarnings('ignore')"
   ]
  },
  {
   "cell_type": "markdown",
   "metadata": {},
   "source": [
    "# Objective\n",
    "\n",
    "This notebook presents a specific example usecase of incorporating ***NWB*** objects into DataJoint using the new ***dj.AttributeAdapter*** feature. \n",
    "\n",
    "We wish to create a table storing NWB object, with attribute type of ***filepath***. The idea is to generate NWB files, one for each session, that can be access from the file system, hence type ***filepath***, and can also be fetched and worked with as part of DatJoint pipeline. This can be accomplished with the new ***dj.AttributeAdapter*** feature.\n",
    "\n",
    "As prerequisite, readers should be familiar with the concept and operation of ***dj.AttributeAdapter***, a review can be found [here](./Adapted-Types.ipynb)."
   ]
  },
  {
   "cell_type": "markdown",
   "metadata": {},
   "source": [
    "## Step 0 - Create a ***store*** for the filepath"
   ]
  },
  {
   "cell_type": "code",
   "execution_count": 11,
   "metadata": {},
   "outputs": [],
   "source": [
    "exported_nwb_dir = 'C:/Users/thinh/Documents/nwb_store'"
   ]
  },
  {
   "cell_type": "code",
   "execution_count": 12,
   "metadata": {},
   "outputs": [],
   "source": [
    "dj.config['stores'] = {\n",
    "    'nwbstore': {'protocol': 'file',\n",
    "                 'stage': exported_nwb_dir,\n",
    "                 'location': exported_nwb_dir}}"
   ]
  },
  {
   "cell_type": "markdown",
   "metadata": {},
   "source": [
    "## Step 1 - Create a DataJoint AttributeAdapter for NWB object"
   ]
  },
  {
   "cell_type": "markdown",
   "metadata": {},
   "source": [
    "Basically we will need to define an object inhereted from `dj.AttributeAdapter` and instantiated with a variable name ***nwb_obj***"
   ]
  },
  {
   "cell_type": "code",
   "execution_count": 13,
   "metadata": {},
   "outputs": [],
   "source": [
    "class NWBAdapter(dj.AttributeAdapter):\n",
    "    attribute_type = 'filepath@nwbstore'\n",
    "    \n",
    "    def put(self, nwb):\n",
    "        save_file_name = ''.join([nwb.identifier, '.nwb'])\n",
    "        with NWBHDF5IO(os.path.join(exported_nwb_dir, save_file_name), mode='w') as io:\n",
    "            io.write(nwb)\n",
    "            print(f'Write NWB 2.0 file: {save_file_name}')\n",
    "        return os.path.join(exported_nwb_dir, save_file_name)\n",
    "        \n",
    "    def get(self, path):\n",
    "        return NWBHDF5IO(path, mode='r').read()"
   ]
  },
  {
   "cell_type": "markdown",
   "metadata": {},
   "source": [
    "#### Instantiate for use as a datajoint type"
   ]
  },
  {
   "cell_type": "code",
   "execution_count": 14,
   "metadata": {},
   "outputs": [],
   "source": [
    "nwb_obj = NWBAdapter()"
   ]
  },
  {
   "cell_type": "markdown",
   "metadata": {},
   "source": [
    "## Step 2 - Create a new schema ***export*** and NWB table\n",
    "\n",
    "This ***NWB*** table specifies a primary key of `experiment.Session`, designed to store one NWB object (or NWBFile) per session"
   ]
  },
  {
   "cell_type": "code",
   "execution_count": 17,
   "metadata": {},
   "outputs": [],
   "source": [
    "schema = dj.schema('djneuro_sfn19_export')"
   ]
  },
  {
   "cell_type": "code",
   "execution_count": 18,
   "metadata": {},
   "outputs": [],
   "source": [
    "@schema\n",
    "class NWB(dj.Manual):\n",
    "    definition = \"\"\"\n",
    "    -> experiment.Session\n",
    "    ---\n",
    "    nwb: <nwb_obj> \n",
    "    \"\"\""
   ]
  },
  {
   "cell_type": "markdown",
   "metadata": {},
   "source": [
    "Note that the table definition above set the ***nwb*** attribute to be of type ***< nwb_obj >***. \n",
    "\n",
    "Hence the reason for defining ***nwbfile*** as an instant of ***NWBAdapter*** - see Step 1"
   ]
  },
  {
   "cell_type": "markdown",
   "metadata": {},
   "source": [
    "## Step 3 - Build an NWBFile and insert into ***NWB** table\n",
    "\n",
    "Construct an NWBFile from the DataJoint pipeline is accomplished using an export function [here](https://github.com/ttngu207/Li-2015a/blob/master/pipeline/export/datajoint_to_nwb.py)"
   ]
  },
  {
   "cell_type": "code",
   "execution_count": 19,
   "metadata": {},
   "outputs": [
    {
     "data": {
      "text/html": [
       "\n",
       "        \n",
       "        <style type=\"text/css\">\n",
       "            .Relation{\n",
       "                border-collapse:collapse;\n",
       "            }\n",
       "            .Relation th{\n",
       "                background: #A0A0A0; color: #ffffff; padding:4px; border:#f0e0e0 1px solid;\n",
       "                font-weight: normal; font-family: monospace; font-size: 100%;\n",
       "            }\n",
       "            .Relation td{\n",
       "                padding:4px; border:#f0e0e0 1px solid; font-size:100%;\n",
       "            }\n",
       "            .Relation tr:nth-child(odd){\n",
       "                background: #ffffff;\n",
       "            }\n",
       "            .Relation tr:nth-child(even){\n",
       "                background: #f3f1ff;\n",
       "            }\n",
       "            /* Tooltip container */\n",
       "            .djtooltip {\n",
       "            }\n",
       "            /* Tooltip text */\n",
       "            .djtooltip .djtooltiptext {\n",
       "                visibility: hidden;\n",
       "                width: 120px;\n",
       "                background-color: black;\n",
       "                color: #fff;\n",
       "                text-align: center;\n",
       "                padding: 5px 0;\n",
       "                border-radius: 6px;\n",
       "                /* Position the tooltip text - see examples below! */\n",
       "                position: absolute;\n",
       "                z-index: 1;\n",
       "            }\n",
       "            #primary {\n",
       "                font-weight: bold;\n",
       "                color: black;\n",
       "            }\n",
       "\n",
       "            #nonprimary {\n",
       "                font-weight: normal;\n",
       "                color: white;\n",
       "            }\n",
       "\n",
       "            /* Show the tooltip text when you mouse over the tooltip container */\n",
       "            .djtooltip:hover .djtooltiptext {\n",
       "                visibility: visible;\n",
       "            }\n",
       "        </style>\n",
       "        \n",
       "        <b></b>\n",
       "            <div style=\"max-height:1000px;max-width:1500px;overflow:auto;\">\n",
       "            <table border=\"1\" class=\"Relation\">\n",
       "                <thead> <tr style=\"text-align: right;\"> <th> <div class=\"djtooltip\">\n",
       "                                <p id=\"primary\">subject_id</p>\n",
       "                                <span class=\"djtooltiptext\">institution 6 digit animal ID</span>\n",
       "                            </div></th><th><div class=\"djtooltip\">\n",
       "                                <p id=\"primary\">session</p>\n",
       "                                <span class=\"djtooltiptext\">session number</span>\n",
       "                            </div></th><th><div class=\"djtooltip\">\n",
       "                                <p id=\"nonprimary\">session_date</p>\n",
       "                                <span class=\"djtooltiptext\"></span>\n",
       "                            </div></th><th><div class=\"djtooltip\">\n",
       "                                <p id=\"nonprimary\">username</p>\n",
       "                                <span class=\"djtooltiptext\"></span>\n",
       "                            </div></th><th><div class=\"djtooltip\">\n",
       "                                <p id=\"nonprimary\">rig</p>\n",
       "                                <span class=\"djtooltiptext\"></span>\n",
       "                            </div> </th> </tr> </thead>\n",
       "                <tbody> <tr> <td>210861</td>\n",
       "<td>1</td>\n",
       "<td>2013-07-01</td>\n",
       "<td>Nuo Li</td>\n",
       "<td>None</td></tr><tr><td>210861</td>\n",
       "<td>2</td>\n",
       "<td>2013-07-02</td>\n",
       "<td>Nuo Li</td>\n",
       "<td>None</td></tr><tr><td>210861</td>\n",
       "<td>3</td>\n",
       "<td>2013-07-03</td>\n",
       "<td>Nuo Li</td>\n",
       "<td>None</td></tr><tr><td>210862</td>\n",
       "<td>1</td>\n",
       "<td>2013-06-26</td>\n",
       "<td>Nuo Li</td>\n",
       "<td>None</td></tr><tr><td>210862</td>\n",
       "<td>2</td>\n",
       "<td>2013-06-27</td>\n",
       "<td>Nuo Li</td>\n",
       "<td>None</td> </tr> </tbody>\n",
       "            </table>\n",
       "            <p>...</p>\n",
       "            <p>Total: 191</p></div>\n",
       "            "
      ],
      "text/plain": [
       "*subject_id    *session    session_date   username     rig     \n",
       "+------------+ +---------+ +------------+ +----------+ +------+\n",
       "210861         1           2013-07-01     Nuo Li       None    \n",
       "210861         2           2013-07-02     Nuo Li       None    \n",
       "210861         3           2013-07-03     Nuo Li       None    \n",
       "210862         1           2013-06-26     Nuo Li       None    \n",
       "210862         2           2013-06-27     Nuo Li       None    \n",
       "   ...\n",
       " (Total: 191)"
      ]
     },
     "execution_count": 19,
     "metadata": {},
     "output_type": "execute_result"
    }
   ],
   "source": [
    "experiment.Session()"
   ]
  },
  {
   "cell_type": "code",
   "execution_count": 20,
   "metadata": {},
   "outputs": [],
   "source": [
    "session_key = (experiment.Session & {'subject_id': '210861', 'session': 1}).fetch1('KEY')"
   ]
  },
  {
   "cell_type": "markdown",
   "metadata": {},
   "source": [
    "### Construct an NWB object from the ***session_key***\n",
    "\n",
    "This includes fetching the data from the pipeline pertained to this session, indicated by the ***session_key*** and construct an NWBFile using the ***pynwb*** package. Let's define a function ***export_to_nwb*** for that"
   ]
  },
  {
   "cell_type": "code",
   "execution_count": 21,
   "metadata": {},
   "outputs": [],
   "source": [
    "zero_zero_time = datetime.strptime('00:00:00', '%H:%M:%S').time()  # no precise time available\n",
    "hardware_filter = 'Bandpass filtered 300-6K Hz'\n",
    "institution = 'Janelia Research Campus'\n",
    "\n",
    "def export_to_nwb(session_key):\n",
    "    this_session = (experiment.Session & session_key).fetch1()\n",
    "    \n",
    "    # ===============================================================================\n",
    "    # =============================== META INFORMATION ==============================\n",
    "    # ===============================================================================\n",
    "    nwb = NWBFile(identifier='_'.join(\n",
    "        ['ANM' + str(this_session['subject_id']),\n",
    "         this_session['session_date'].strftime('%Y-%m-%d'),\n",
    "         str(this_session['session'])]),\n",
    "        session_description='',\n",
    "        session_start_time=datetime.combine(this_session['session_date'], zero_zero_time),\n",
    "        file_create_date=datetime.now(tzlocal()),\n",
    "        experimenter=this_session['username'],\n",
    "        institution=institution)\n",
    "    # -- subject\n",
    "    subj = (lab.Subject & session_key).fetch1()\n",
    "    nwb.subject = pynwb.file.Subject(\n",
    "        subject_id=str(this_session['subject_id']),\n",
    "        genotype=' x '.join((lab.Subject.GeneModification\n",
    "                             & subj).fetch('gene_modification')),\n",
    "        sex=subj['sex'],\n",
    "        species=subj['species'],\n",
    "        date_of_birth=datetime.combine(subj['date_of_birth'], zero_zero_time) if subj['date_of_birth'] else None)\n",
    "\n",
    "    # ===============================================================================\n",
    "    # ======================== EXTRACELLULAR & CLUSTERING ===========================\n",
    "    # ===============================================================================\n",
    "\n",
    "    \"\"\"\n",
    "    In the event of multiple probe recording (i.e. multiple probe insertions), the clustering results \n",
    "    (and the associated units) are associated with the corresponding probe. \n",
    "    Each probe insertion is associated with one ElectrodeConfiguration (which may define multiple electrode groups)\n",
    "    \"\"\"\n",
    "\n",
    "    dj_insert_location = ephys.ProbeInsertion.InsertionLocation * experiment.BrainLocation\n",
    "\n",
    "    for probe_insertion in ephys.ProbeInsertion & session_key:\n",
    "        electrode_config = (lab.ElectrodeConfig & probe_insertion).fetch1()\n",
    "\n",
    "        electrode_groups = {}\n",
    "        for electrode_group in lab.ElectrodeConfig.ElectrodeGroup & electrode_config:\n",
    "            electrode_groups[electrode_group['electrode_group']] = nwb.create_electrode_group(\n",
    "                name=electrode_config['electrode_config_name'] + '_g' + str(electrode_group['electrode_group']),\n",
    "                description='N/A',\n",
    "                device=nwb.create_device(name=electrode_config['probe']),\n",
    "                location=json.dumps({k: str(v) for k, v in (dj_insert_location & session_key).fetch1().items()\n",
    "                                     if k not in dj_insert_location.primary_key}))\n",
    "\n",
    "        for chn in (lab.ElectrodeConfig.Electrode * lab.Probe.Electrode & electrode_config).fetch(as_dict=True):\n",
    "            nwb.add_electrode(id=chn['electrode'],\n",
    "                                  group=electrode_groups[chn['electrode_group']],\n",
    "                                  filtering=hardware_filter,\n",
    "                                  imp=-1.,\n",
    "                                  x=chn['x_coord'] if chn['x_coord'] else np.nan,\n",
    "                                  y=chn['y_coord'] if chn['y_coord'] else np.nan,\n",
    "                                  z=chn['z_coord'] if chn['z_coord'] else np.nan,\n",
    "                                  location=electrode_groups[chn['electrode_group']].location)\n",
    "\n",
    "        # --- unit spike times ---\n",
    "        nwb.add_unit_column(name='quality', description='unit quality from clustering')\n",
    "        nwb.add_unit_column(name='posx', description='estimated x position of the unit relative to probe (0,0)')\n",
    "        nwb.add_unit_column(name='posy', description='estimated y position of the unit relative to probe (0,0)')\n",
    "        nwb.add_unit_column(name='amp', description='unit amplitude')\n",
    "        nwb.add_unit_column(name='snr', description='unit signal-to-noise')\n",
    "        nwb.add_unit_column(name='cell_type', description='cell type (e.g. fast spiking or pyramidal)')\n",
    "\n",
    "        for unit in (ephys.Unit * ephys.UnitCellType & probe_insertion).fetch(as_dict=True):\n",
    "            # make an electrode table region (which electrode(s) is this unit coming from)\n",
    "            nwb.add_unit(id=unit['unit'],\n",
    "                             electrodes=[unit['electrode']],\n",
    "                             electrode_group=electrode_groups[unit['electrode_group']],\n",
    "                             quality=unit['unit_quality'],\n",
    "                             posx=unit['unit_posx'],\n",
    "                             posy=unit['unit_posy'],\n",
    "                             amp=unit['unit_amp'] if unit['unit_amp'] else np.nan,\n",
    "                             snr=unit['unit_snr'] if unit['unit_amp'] else np.nan,\n",
    "                             cell_type=unit['cell_type'],\n",
    "                             spike_times=unit['spike_times'],\n",
    "                             waveform_mean=np.mean(unit['waveform'], axis=0),\n",
    "                             waveform_sd=np.std(unit['waveform'], axis=0))\n",
    "    return nwb"
   ]
  },
  {
   "cell_type": "markdown",
   "metadata": {},
   "source": [
    "### Let's generate the NWBFile from the selected `session_key`"
   ]
  },
  {
   "cell_type": "code",
   "execution_count": 22,
   "metadata": {},
   "outputs": [],
   "source": [
    "nwb = export_to_nwb(session_key)"
   ]
  },
  {
   "cell_type": "code",
   "execution_count": 23,
   "metadata": {},
   "outputs": [
    {
     "data": {
      "text/plain": [
       "\n",
       "root <class 'pynwb.file.NWBFile'>\n",
       "Fields:\n",
       "  devices: {\n",
       "    A4x8-5mm-100-200-177 <class 'pynwb.device.Device'>\n",
       "  }\n",
       "  electrode_groups: {\n",
       "    silicon32_g0 <class 'pynwb.ecephys.ElectrodeGroup'>\n",
       "  }\n",
       "  electrodes: electrodes <class 'pynwb.core.DynamicTable'>\n",
       "  experimenter: Nuo Li\n",
       "  file_create_date: [datetime.datetime(2019, 11, 1, 11, 47, 29, 329250, tzinfo=tzlocal())]\n",
       "  identifier: ANM210861_2013-07-01_1\n",
       "  institution: Janelia Research Campus\n",
       "  session_start_time: 2013-07-01 00:00:00-05:00\n",
       "  subject: subject <class 'pynwb.file.Subject'>\n",
       "  timestamps_reference_time: 2013-07-01 00:00:00-05:00\n",
       "  units: units <class 'pynwb.misc.Units'>"
      ]
     },
     "execution_count": 23,
     "metadata": {},
     "output_type": "execute_result"
    }
   ],
   "source": [
    "nwb"
   ]
  },
  {
   "cell_type": "markdown",
   "metadata": {},
   "source": [
    "### Check the units and spikes"
   ]
  },
  {
   "cell_type": "code",
   "execution_count": 24,
   "metadata": {},
   "outputs": [
    {
     "data": {
      "text/html": [
       "<div>\n",
       "<style scoped>\n",
       "    .dataframe tbody tr th:only-of-type {\n",
       "        vertical-align: middle;\n",
       "    }\n",
       "\n",
       "    .dataframe tbody tr th {\n",
       "        vertical-align: top;\n",
       "    }\n",
       "\n",
       "    .dataframe thead th {\n",
       "        text-align: right;\n",
       "    }\n",
       "</style>\n",
       "<table border=\"1\" class=\"dataframe\">\n",
       "  <thead>\n",
       "    <tr style=\"text-align: right;\">\n",
       "      <th></th>\n",
       "      <th>quality</th>\n",
       "      <th>posx</th>\n",
       "      <th>posy</th>\n",
       "      <th>amp</th>\n",
       "      <th>snr</th>\n",
       "      <th>cell_type</th>\n",
       "      <th>spike_times</th>\n",
       "      <th>electrodes</th>\n",
       "      <th>electrode_group</th>\n",
       "      <th>waveform_mean</th>\n",
       "      <th>waveform_sd</th>\n",
       "    </tr>\n",
       "    <tr>\n",
       "      <th>id</th>\n",
       "      <th></th>\n",
       "      <th></th>\n",
       "      <th></th>\n",
       "      <th></th>\n",
       "      <th></th>\n",
       "      <th></th>\n",
       "      <th></th>\n",
       "      <th></th>\n",
       "      <th></th>\n",
       "      <th></th>\n",
       "      <th></th>\n",
       "    </tr>\n",
       "  </thead>\n",
       "  <tbody>\n",
       "    <tr>\n",
       "      <th>1</th>\n",
       "      <td>good</td>\n",
       "      <td>300.0</td>\n",
       "      <td>-239.23</td>\n",
       "      <td>NaN</td>\n",
       "      <td>NaN</td>\n",
       "      <td>FS</td>\n",
       "      <td>[193.50960493587493, 193.56806993984222, 193.8...</td>\n",
       "      <td>[(2, nan, nan, nan, -1.0, {\"ml_location\": \"250...</td>\n",
       "      <td>\\nsilicon32_g0 &lt;class 'pynwb.ecephys.Electrode...</td>\n",
       "      <td>[1.054545529579609e-05, 9.056840695049851e-06,...</td>\n",
       "      <td>[2.089032804260185e-05, 2.097320909876938e-05,...</td>\n",
       "    </tr>\n",
       "    <tr>\n",
       "      <th>2</th>\n",
       "      <td>good</td>\n",
       "      <td>300.0</td>\n",
       "      <td>-739.23</td>\n",
       "      <td>NaN</td>\n",
       "      <td>NaN</td>\n",
       "      <td>Pyr</td>\n",
       "      <td>[1330.3045341565037, 1330.4772328330898, 1330....</td>\n",
       "      <td>[(7, nan, nan, nan, -1.0, {\"ml_location\": \"250...</td>\n",
       "      <td>\\nsilicon32_g0 &lt;class 'pynwb.ecephys.Electrode...</td>\n",
       "      <td>[2.137148949953386e-05, 2.2598475776179362e-05...</td>\n",
       "      <td>[1.151541178789538e-05, 1.1761191643470204e-05...</td>\n",
       "    </tr>\n",
       "    <tr>\n",
       "      <th>3</th>\n",
       "      <td>good</td>\n",
       "      <td>100.0</td>\n",
       "      <td>-239.23</td>\n",
       "      <td>NaN</td>\n",
       "      <td>NaN</td>\n",
       "      <td>Pyr</td>\n",
       "      <td>[1039.4155255987548, 1112.7271499458618, 1113....</td>\n",
       "      <td>[(10, nan, nan, nan, -1.0, {\"ml_location\": \"25...</td>\n",
       "      <td>\\nsilicon32_g0 &lt;class 'pynwb.ecephys.Electrode...</td>\n",
       "      <td>[6.566261472471525e-05, 6.708318969029598e-05,...</td>\n",
       "      <td>[2.532670367181818e-05, 2.5250325224515877e-05...</td>\n",
       "    </tr>\n",
       "    <tr>\n",
       "      <th>5</th>\n",
       "      <td>good</td>\n",
       "      <td>100.0</td>\n",
       "      <td>-239.23</td>\n",
       "      <td>NaN</td>\n",
       "      <td>NaN</td>\n",
       "      <td>Pyr</td>\n",
       "      <td>[122.88458597019958, 124.14954411343383, 124.1...</td>\n",
       "      <td>[(10, nan, nan, nan, -1.0, {\"ml_location\": \"25...</td>\n",
       "      <td>\\nsilicon32_g0 &lt;class 'pynwb.ecephys.Electrode...</td>\n",
       "      <td>[-1.829192958687734e-06, -1.3189889352710687e-...</td>\n",
       "      <td>[2.5708487505186185e-05, 2.5908135210449323e-0...</td>\n",
       "    </tr>\n",
       "    <tr>\n",
       "      <th>6</th>\n",
       "      <td>good</td>\n",
       "      <td>100.0</td>\n",
       "      <td>-339.23</td>\n",
       "      <td>NaN</td>\n",
       "      <td>NaN</td>\n",
       "      <td>Pyr</td>\n",
       "      <td>[441.3197799898224, 580.3622762567215, 611.775...</td>\n",
       "      <td>[(11, nan, nan, nan, -1.0, {\"ml_location\": \"25...</td>\n",
       "      <td>\\nsilicon32_g0 &lt;class 'pynwb.ecephys.Electrode...</td>\n",
       "      <td>[2.1640630960186472e-05, 2.3090471494022005e-0...</td>\n",
       "      <td>[1.730605003883158e-05, 1.6574918056606448e-05...</td>\n",
       "    </tr>\n",
       "  </tbody>\n",
       "</table>\n",
       "</div>"
      ],
      "text/plain": [
       "   quality   posx    posy  amp  snr cell_type  \\\n",
       "id                                              \n",
       "1     good  300.0 -239.23  NaN  NaN        FS   \n",
       "2     good  300.0 -739.23  NaN  NaN       Pyr   \n",
       "3     good  100.0 -239.23  NaN  NaN       Pyr   \n",
       "5     good  100.0 -239.23  NaN  NaN       Pyr   \n",
       "6     good  100.0 -339.23  NaN  NaN       Pyr   \n",
       "\n",
       "                                          spike_times  \\\n",
       "id                                                      \n",
       "1   [193.50960493587493, 193.56806993984222, 193.8...   \n",
       "2   [1330.3045341565037, 1330.4772328330898, 1330....   \n",
       "3   [1039.4155255987548, 1112.7271499458618, 1113....   \n",
       "5   [122.88458597019958, 124.14954411343383, 124.1...   \n",
       "6   [441.3197799898224, 580.3622762567215, 611.775...   \n",
       "\n",
       "                                           electrodes  \\\n",
       "id                                                      \n",
       "1   [(2, nan, nan, nan, -1.0, {\"ml_location\": \"250...   \n",
       "2   [(7, nan, nan, nan, -1.0, {\"ml_location\": \"250...   \n",
       "3   [(10, nan, nan, nan, -1.0, {\"ml_location\": \"25...   \n",
       "5   [(10, nan, nan, nan, -1.0, {\"ml_location\": \"25...   \n",
       "6   [(11, nan, nan, nan, -1.0, {\"ml_location\": \"25...   \n",
       "\n",
       "                                      electrode_group  \\\n",
       "id                                                      \n",
       "1   \\nsilicon32_g0 <class 'pynwb.ecephys.Electrode...   \n",
       "2   \\nsilicon32_g0 <class 'pynwb.ecephys.Electrode...   \n",
       "3   \\nsilicon32_g0 <class 'pynwb.ecephys.Electrode...   \n",
       "5   \\nsilicon32_g0 <class 'pynwb.ecephys.Electrode...   \n",
       "6   \\nsilicon32_g0 <class 'pynwb.ecephys.Electrode...   \n",
       "\n",
       "                                        waveform_mean  \\\n",
       "id                                                      \n",
       "1   [1.054545529579609e-05, 9.056840695049851e-06,...   \n",
       "2   [2.137148949953386e-05, 2.2598475776179362e-05...   \n",
       "3   [6.566261472471525e-05, 6.708318969029598e-05,...   \n",
       "5   [-1.829192958687734e-06, -1.3189889352710687e-...   \n",
       "6   [2.1640630960186472e-05, 2.3090471494022005e-0...   \n",
       "\n",
       "                                          waveform_sd  \n",
       "id                                                     \n",
       "1   [2.089032804260185e-05, 2.097320909876938e-05,...  \n",
       "2   [1.151541178789538e-05, 1.1761191643470204e-05...  \n",
       "3   [2.532670367181818e-05, 2.5250325224515877e-05...  \n",
       "5   [2.5708487505186185e-05, 2.5908135210449323e-0...  \n",
       "6   [1.730605003883158e-05, 1.6574918056606448e-05...  "
      ]
     },
     "execution_count": 24,
     "metadata": {},
     "output_type": "execute_result"
    }
   ],
   "source": [
    "# Check the units and spikes\n",
    "nwb.units.to_dataframe().head(5)"
   ]
  },
  {
   "cell_type": "markdown",
   "metadata": {},
   "source": [
    "### Insert to the ***NWB*** table"
   ]
  },
  {
   "cell_type": "code",
   "execution_count": 25,
   "metadata": {},
   "outputs": [
    {
     "name": "stdout",
     "output_type": "stream",
     "text": [
      "Write NWB 2.0 file: ANM210861_2013-07-01_1.nwb\n"
     ]
    }
   ],
   "source": [
    "NWB.insert1({**session_key, 'nwb': nwb})"
   ]
  },
  {
   "cell_type": "code",
   "execution_count": 26,
   "metadata": {},
   "outputs": [
    {
     "data": {
      "text/html": [
       "\n",
       "        \n",
       "        <style type=\"text/css\">\n",
       "            .Relation{\n",
       "                border-collapse:collapse;\n",
       "            }\n",
       "            .Relation th{\n",
       "                background: #A0A0A0; color: #ffffff; padding:4px; border:#f0e0e0 1px solid;\n",
       "                font-weight: normal; font-family: monospace; font-size: 100%;\n",
       "            }\n",
       "            .Relation td{\n",
       "                padding:4px; border:#f0e0e0 1px solid; font-size:100%;\n",
       "            }\n",
       "            .Relation tr:nth-child(odd){\n",
       "                background: #ffffff;\n",
       "            }\n",
       "            .Relation tr:nth-child(even){\n",
       "                background: #f3f1ff;\n",
       "            }\n",
       "            /* Tooltip container */\n",
       "            .djtooltip {\n",
       "            }\n",
       "            /* Tooltip text */\n",
       "            .djtooltip .djtooltiptext {\n",
       "                visibility: hidden;\n",
       "                width: 120px;\n",
       "                background-color: black;\n",
       "                color: #fff;\n",
       "                text-align: center;\n",
       "                padding: 5px 0;\n",
       "                border-radius: 6px;\n",
       "                /* Position the tooltip text - see examples below! */\n",
       "                position: absolute;\n",
       "                z-index: 1;\n",
       "            }\n",
       "            #primary {\n",
       "                font-weight: bold;\n",
       "                color: black;\n",
       "            }\n",
       "\n",
       "            #nonprimary {\n",
       "                font-weight: normal;\n",
       "                color: white;\n",
       "            }\n",
       "\n",
       "            /* Show the tooltip text when you mouse over the tooltip container */\n",
       "            .djtooltip:hover .djtooltiptext {\n",
       "                visibility: visible;\n",
       "            }\n",
       "        </style>\n",
       "        \n",
       "        <b></b>\n",
       "            <div style=\"max-height:1000px;max-width:1500px;overflow:auto;\">\n",
       "            <table border=\"1\" class=\"Relation\">\n",
       "                <thead> <tr style=\"text-align: right;\"> <th> <div class=\"djtooltip\">\n",
       "                                <p id=\"primary\">subject_id</p>\n",
       "                                <span class=\"djtooltiptext\">institution 6 digit animal ID</span>\n",
       "                            </div></th><th><div class=\"djtooltip\">\n",
       "                                <p id=\"primary\">session</p>\n",
       "                                <span class=\"djtooltiptext\">session number</span>\n",
       "                            </div></th><th><div class=\"djtooltip\">\n",
       "                                <p id=\"nonprimary\">nwb</p>\n",
       "                                <span class=\"djtooltiptext\"></span>\n",
       "                            </div> </th> </tr> </thead>\n",
       "                <tbody> <tr> <td>210861</td>\n",
       "<td>1</td>\n",
       "<td>=BLOB=</td> </tr> </tbody>\n",
       "            </table>\n",
       "            \n",
       "            <p>Total: 1</p></div>\n",
       "            "
      ],
      "text/plain": [
       "*subject_id    *session    nwb       \n",
       "+------------+ +---------+ +--------+\n",
       "210861         1           =BLOB=    \n",
       " (Total: 1)"
      ]
     },
     "execution_count": 26,
     "metadata": {},
     "output_type": "execute_result"
    }
   ],
   "source": [
    "NWB()"
   ]
  },
  {
   "cell_type": "markdown",
   "metadata": {},
   "source": [
    "### Fetch to confirm"
   ]
  },
  {
   "cell_type": "code",
   "execution_count": 27,
   "metadata": {},
   "outputs": [],
   "source": [
    "fetched_nwb = (NWB & session_key).fetch1('nwb')"
   ]
  },
  {
   "cell_type": "code",
   "execution_count": 28,
   "metadata": {},
   "outputs": [
    {
     "data": {
      "text/plain": [
       "\"\\nroot <class 'pynwb.file.NWBFile'>\\nFields:\\n  devices: {\\n    A4x8-5mm-100-200-177 <class 'pynwb.device.Device'>\\n  }\\n  electrode_groups: {\\n    silicon32_g0 <class 'pynwb.ecephys.ElectrodeGroup'>\\n  }\\n  electrodes: electrodes <class 'pynwb.core.DynamicTable'>\\n  experimenter: ['Nuo Li']\\n  file_create_date: [datetime.datetime(2019, 11, 1, 11, 47, 29, 329250, tzinfo=tzoffset(None, -18000))]\\n  identifier: ANM210861_2013-07-01_1\\n  institution: Janelia Research Campus\\n  session_start_time: 2013-07-01 00:00:00-05:00\\n  subject: subject <class 'pynwb.file.Subject'>\\n  timestamps_reference_time: 2013-07-01 00:00:00-05:00\\n  units: units <class 'pynwb.misc.Units'>\\n\""
      ]
     },
     "execution_count": 28,
     "metadata": {},
     "output_type": "execute_result"
    }
   ],
   "source": [
    "fetched_nwb"
   ]
  },
  {
   "cell_type": "markdown",
   "metadata": {},
   "source": [
    "### Confirmed the fetched NWB file ***units*** table"
   ]
  },
  {
   "cell_type": "code",
   "execution_count": 29,
   "metadata": {},
   "outputs": [
    {
     "ename": "AttributeError",
     "evalue": "'str' object has no attribute 'units'",
     "output_type": "error",
     "traceback": [
      "\u001b[1;31m---------------------------------------------------------------------------\u001b[0m",
      "\u001b[1;31mAttributeError\u001b[0m                            Traceback (most recent call last)",
      "\u001b[1;32m<ipython-input-29-0f6479297998>\u001b[0m in \u001b[0;36m<module>\u001b[1;34m()\u001b[0m\n\u001b[1;32m----> 1\u001b[1;33m \u001b[0mfetched_nwb\u001b[0m\u001b[1;33m.\u001b[0m\u001b[0munits\u001b[0m\u001b[1;33m.\u001b[0m\u001b[0mto_dataframe\u001b[0m\u001b[1;33m(\u001b[0m\u001b[1;33m)\u001b[0m\u001b[1;33m\u001b[0m\u001b[0m\n\u001b[0m",
      "\u001b[1;31mAttributeError\u001b[0m: 'str' object has no attribute 'units'"
     ]
    }
   ],
   "source": [
    "fetched_nwb.units.to_dataframe()"
   ]
  },
  {
   "cell_type": "markdown",
   "metadata": {},
   "source": [
    "## One step further, let's turn this routine into a dj.Computed table\n",
    "\n",
    "With this definition and the ***make()*** logic, one NWBFile will be created, and inserted into the ***ComputedNWB*** table per session. With the attribute type of ***filepath***, the generated nwb files (.nwb) can be found at ***nwbstore***, with location defined as ***'/home/ttngu207/data'*** above"
   ]
  },
  {
   "cell_type": "code",
   "execution_count": null,
   "metadata": {},
   "outputs": [],
   "source": [
    "@export\n",
    "class ComputedNWB(dj.Computed):\n",
    "    definition = \"\"\"\n",
    "    -> experiment.Session\n",
    "    ---\n",
    "    nwb: <nwb_obj> \n",
    "    \"\"\"\n",
    "    \n",
    "    def make(self, key):\n",
    "        nwbfile = export_to_nwb(key)\n",
    "        self.insert1({**key, 'nwb': nwbfile})"
   ]
  },
  {
   "cell_type": "code",
   "execution_count": null,
   "metadata": {},
   "outputs": [],
   "source": [
    "ComputedNWB.populate()"
   ]
  },
  {
   "cell_type": "code",
   "execution_count": null,
   "metadata": {},
   "outputs": [],
   "source": []
  },
  {
   "cell_type": "code",
   "execution_count": null,
   "metadata": {},
   "outputs": [],
   "source": []
  }
 ],
 "metadata": {
  "kernelspec": {
   "display_name": "Python 3",
   "language": "python",
   "name": "python3"
  },
  "language_info": {
   "codemirror_mode": {
    "name": "ipython",
    "version": 3
   },
   "file_extension": ".py",
   "mimetype": "text/x-python",
   "name": "python",
   "nbconvert_exporter": "python",
   "pygments_lexer": "ipython3",
   "version": "3.7.0"
  }
 },
 "nbformat": 4,
 "nbformat_minor": 2
}
