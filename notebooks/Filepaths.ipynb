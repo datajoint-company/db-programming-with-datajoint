{
 "cells": [
  {
   "cell_type": "code",
   "execution_count": 1,
   "metadata": {},
   "outputs": [],
   "source": [
    "from IPython import display\n",
    "from ipywidgets import Image\n",
    "\n",
    "import os\n",
    "import datajoint as dj"
   ]
  },
  {
   "cell_type": "code",
   "execution_count": null,
   "metadata": {},
   "outputs": [],
   "source": [
    "schema.drop()"
   ]
  },
  {
   "cell_type": "code",
   "execution_count": null,
   "metadata": {},
   "outputs": [],
   "source": []
  },
  {
   "cell_type": "code",
   "execution_count": 3,
   "metadata": {},
   "outputs": [],
   "source": [
    "schema = dj.schema('dimitri_filepath')"
   ]
  },
  {
   "cell_type": "code",
   "execution_count": 4,
   "metadata": {},
   "outputs": [
    {
     "data": {
      "text/plain": [
       "['dimitri_alter',\n",
       " 'dimitri_attach',\n",
       " 'dimitri_blob',\n",
       " 'dimitri_blobs',\n",
       " 'dimitri_filepath',\n",
       " 'dimitri_nphoton',\n",
       " 'dimitri_nwb',\n",
       " 'dimitri_schema',\n",
       " 'dimitri_test',\n",
       " 'dimitri_university',\n",
       " 'dimitri_uuid',\n",
       " 'test_attach',\n",
       " 'test_filepath',\n",
       " 'test_mikkel',\n",
       " 'test_orders',\n",
       " 'test_parse',\n",
       " 'test_question001',\n",
       " 'test_question002',\n",
       " 'university']"
      ]
     },
     "execution_count": 4,
     "metadata": {},
     "output_type": "execute_result"
    }
   ],
   "source": [
    "dj.list_schemas()"
   ]
  },
  {
   "cell_type": "code",
   "execution_count": 5,
   "metadata": {},
   "outputs": [],
   "source": [
    "## Storage configuration\n",
    "\n",
    "# set up stores\n",
    "dj.config['stores'] = {\n",
    "    'remote': dict(   # store in minio\n",
    "        stage=os.path.abspath('./stage'),\n",
    "        protocol='s3',\n",
    "        endpoint='localhost:9000',\n",
    "        access_key='datajoint',\n",
    "        secret_key='datajoint',\n",
    "        bucket='datajoint-demo',        \n",
    "        location='dj/file-demo'),   \n",
    "    }"
   ]
  },
  {
   "cell_type": "markdown",
   "metadata": {},
   "source": [
    "## Download some images off the web into ./stage"
   ]
  },
  {
   "cell_type": "code",
   "execution_count": 6,
   "metadata": {},
   "outputs": [],
   "source": [
    "# Step 1: Find a bunch of images on the web\n",
    "logos = dict(\n",
    "    ucsd='https://upload.wikimedia.org/wikipedia/commons/f/f6/UCSD_logo.png',\n",
    "    datajoint='https://datajoint.io/static/images/DJiotitle.png',\n",
    "    utah='https://umc.utah.edu/wp-content/uploads/sites/15/2015/01/Ulogo_400p.png',\n",
    "    bcm='https://upload.wikimedia.org/wikipedia/commons/5/5d/Baylor_College_of_Medicine_Logo.png',\n",
    "    pydata='https://pydata.org/wp-content/uploads/2018/10/pydata-logo.png',\n",
    "    python='https://www.python.org/static/community_logos/python-logo-master-v3-TM.png',\n",
    "    pni='https://vathes.com/2018/05/24/Princeton-Neuroscience-Institute-Partners-with-Vathes-to-Support-the-Adoption-of-DataJoint/PNI%20logo.png')"
   ]
  },
  {
   "cell_type": "code",
   "execution_count": 7,
   "metadata": {},
   "outputs": [
    {
     "data": {
      "application/vnd.jupyter.widget-view+json": {
       "model_id": "9edffe4b13144cd9af50cc58ce890e66",
       "version_major": 2,
       "version_minor": 0
      },
      "text/plain": [
       "Image(value=b'https://www.python.org/static/community_logos/python-logo-master-v3-TM.png', format='url')"
      ]
     },
     "metadata": {},
     "output_type": "display_data"
    }
   ],
   "source": [
    "Image.from_url(logos['python'])"
   ]
  },
  {
   "cell_type": "code",
   "execution_count": 8,
   "metadata": {},
   "outputs": [],
   "source": [
    "@schema\n",
    "class Organization(dj.Lookup):\n",
    "    definition = \"\"\"\n",
    "    organization : varchar(30)\n",
    "    --- \n",
    "    logo_url : varchar(255)\n",
    "    \"\"\"\n",
    "    contents = logos.items()"
   ]
  },
  {
   "cell_type": "code",
   "execution_count": 9,
   "metadata": {},
   "outputs": [
    {
     "data": {
      "text/html": [
       "\n",
       "        \n",
       "        <style type=\"text/css\">\n",
       "            .Relation{\n",
       "                border-collapse:collapse;\n",
       "            }\n",
       "            .Relation th{\n",
       "                background: #A0A0A0; color: #ffffff; padding:4px; border:#f0e0e0 1px solid;\n",
       "                font-weight: normal; font-family: monospace; font-size: 100%;\n",
       "            }\n",
       "            .Relation td{\n",
       "                padding:4px; border:#f0e0e0 1px solid; font-size:100%;\n",
       "            }\n",
       "            .Relation tr:nth-child(odd){\n",
       "                background: #ffffff;\n",
       "            }\n",
       "            .Relation tr:nth-child(even){\n",
       "                background: #f3f1ff;\n",
       "            }\n",
       "            /* Tooltip container */\n",
       "            .djtooltip {\n",
       "            }\n",
       "            /* Tooltip text */\n",
       "            .djtooltip .djtooltiptext {\n",
       "                visibility: hidden;\n",
       "                width: 120px;\n",
       "                background-color: black;\n",
       "                color: #fff;\n",
       "                text-align: center;\n",
       "                padding: 5px 0;\n",
       "                border-radius: 6px;\n",
       "                /* Position the tooltip text - see examples below! */\n",
       "                position: absolute;\n",
       "                z-index: 1;\n",
       "            }\n",
       "            #primary {\n",
       "                font-weight: bold;\n",
       "                color: black;\n",
       "            }\n",
       "\n",
       "            #nonprimary {\n",
       "                font-weight: normal;\n",
       "                color: white;\n",
       "            }\n",
       "\n",
       "            /* Show the tooltip text when you mouse over the tooltip container */\n",
       "            .djtooltip:hover .djtooltiptext {\n",
       "                visibility: visible;\n",
       "            }\n",
       "        </style>\n",
       "        \n",
       "        <b></b>\n",
       "            <div style=\"max-height:1000px;max-width:1500px;overflow:auto;\">\n",
       "            <table border=\"1\" class=\"Relation\">\n",
       "                <thead> <tr style=\"text-align: right;\"> <th> <div class=\"djtooltip\">\n",
       "                                <p id=\"primary\">organization</p>\n",
       "                                <span class=\"djtooltiptext\"></span>\n",
       "                            </div></th><th><div class=\"djtooltip\">\n",
       "                                <p id=\"nonprimary\">logo_url</p>\n",
       "                                <span class=\"djtooltiptext\"></span>\n",
       "                            </div> </th> </tr> </thead>\n",
       "                <tbody> <tr> <td>bcm</td>\n",
       "<td>https://upload.wikimedia.org/wikipedia/commons/5/5d/Baylor_College_of_Medicine_Logo.png</td></tr><tr><td>datajoint</td>\n",
       "<td>https://datajoint.io/static/images/DJiotitle.png</td></tr><tr><td>pni</td>\n",
       "<td>https://vathes.com/2018/05/24/Princeton-Neuroscience-Institute-Partners-with-Vathes-to-Support-the-Adoption-of-DataJoint/PNI%20logo.png</td></tr><tr><td>pydata</td>\n",
       "<td>https://pydata.org/wp-content/uploads/2018/10/pydata-logo.png</td></tr><tr><td>python</td>\n",
       "<td>https://www.python.org/static/community_logos/python-logo-master-v3-TM.png</td></tr><tr><td>ucsd</td>\n",
       "<td>https://upload.wikimedia.org/wikipedia/commons/f/f6/UCSD_logo.png</td></tr><tr><td>utah</td>\n",
       "<td>https://umc.utah.edu/wp-content/uploads/sites/15/2015/01/Ulogo_400p.png</td> </tr> </tbody>\n",
       "            </table>\n",
       "            \n",
       "            <p>Total: 7</p></div>\n",
       "            "
      ],
      "text/plain": [
       "*organization  logo_url      \n",
       "+------------+ +------------+\n",
       "bcm            https://upload\n",
       "datajoint      https://datajo\n",
       "pni            https://vathes\n",
       "pydata         https://pydata\n",
       "python         https://www.py\n",
       "ucsd           https://upload\n",
       "utah           https://umc.ut\n",
       " (Total: 7)"
      ]
     },
     "execution_count": 9,
     "metadata": {},
     "output_type": "execute_result"
    }
   ],
   "source": [
    "Organization()"
   ]
  },
  {
   "cell_type": "code",
   "execution_count": 10,
   "metadata": {},
   "outputs": [],
   "source": [
    "import requests \n",
    "\n",
    "@schema\n",
    "class Logo(dj.Imported):\n",
    "    definition = \"\"\"\n",
    "    -> Organization\n",
    "    ---\n",
    "    logo_image : filepath@remote\n",
    "    \"\"\"\n",
    "    \n",
    "    path = os.path.join(dj.config['stores']['remote']['stage'], 'organizations', 'logos')\n",
    "    \n",
    "    def make(self, key):\n",
    "        # create the subfolder and download the logo into local_file \n",
    "        os.makedirs(self.path, exist_ok=True)\n",
    "        url = (Organization & key).fetch1('logo_url')\n",
    "        local_file = os.path.join(self.path, key['organization'] + os.path.splitext(url)[1])\n",
    "        print(local_file)\n",
    "        with open(local_file, 'wb') as f:\n",
    "            f.write(requests.get(url).content)\n",
    "        # sync up\n",
    "        self.insert1(dict(key, logo_image=local_file))        "
   ]
  },
  {
   "cell_type": "code",
   "execution_count": 11,
   "metadata": {},
   "outputs": [
    {
     "name": "stdout",
     "output_type": "stream",
     "text": [
      "/home/dimitri/dev/db-programming-with-datajoint/notebooks/stage/organizations/logos/bcm.png\n",
      "/home/dimitri/dev/db-programming-with-datajoint/notebooks/stage/organizations/logos/datajoint.png\n",
      "/home/dimitri/dev/db-programming-with-datajoint/notebooks/stage/organizations/logos/pni.png\n",
      "/home/dimitri/dev/db-programming-with-datajoint/notebooks/stage/organizations/logos/pydata.png\n",
      "/home/dimitri/dev/db-programming-with-datajoint/notebooks/stage/organizations/logos/python.png\n",
      "/home/dimitri/dev/db-programming-with-datajoint/notebooks/stage/organizations/logos/ucsd.png\n",
      "/home/dimitri/dev/db-programming-with-datajoint/notebooks/stage/organizations/logos/utah.png\n"
     ]
    }
   ],
   "source": [
    "Logo.populate()"
   ]
  },
  {
   "cell_type": "code",
   "execution_count": 12,
   "metadata": {},
   "outputs": [
    {
     "data": {
      "text/html": [
       "\n",
       "        \n",
       "        <style type=\"text/css\">\n",
       "            .Relation{\n",
       "                border-collapse:collapse;\n",
       "            }\n",
       "            .Relation th{\n",
       "                background: #A0A0A0; color: #ffffff; padding:4px; border:#f0e0e0 1px solid;\n",
       "                font-weight: normal; font-family: monospace; font-size: 100%;\n",
       "            }\n",
       "            .Relation td{\n",
       "                padding:4px; border:#f0e0e0 1px solid; font-size:100%;\n",
       "            }\n",
       "            .Relation tr:nth-child(odd){\n",
       "                background: #ffffff;\n",
       "            }\n",
       "            .Relation tr:nth-child(even){\n",
       "                background: #f3f1ff;\n",
       "            }\n",
       "            /* Tooltip container */\n",
       "            .djtooltip {\n",
       "            }\n",
       "            /* Tooltip text */\n",
       "            .djtooltip .djtooltiptext {\n",
       "                visibility: hidden;\n",
       "                width: 120px;\n",
       "                background-color: black;\n",
       "                color: #fff;\n",
       "                text-align: center;\n",
       "                padding: 5px 0;\n",
       "                border-radius: 6px;\n",
       "                /* Position the tooltip text - see examples below! */\n",
       "                position: absolute;\n",
       "                z-index: 1;\n",
       "            }\n",
       "            #primary {\n",
       "                font-weight: bold;\n",
       "                color: black;\n",
       "            }\n",
       "\n",
       "            #nonprimary {\n",
       "                font-weight: normal;\n",
       "                color: white;\n",
       "            }\n",
       "\n",
       "            /* Show the tooltip text when you mouse over the tooltip container */\n",
       "            .djtooltip:hover .djtooltiptext {\n",
       "                visibility: visible;\n",
       "            }\n",
       "        </style>\n",
       "        \n",
       "        <b></b>\n",
       "            <div style=\"max-height:1000px;max-width:1500px;overflow:auto;\">\n",
       "            <table border=\"1\" class=\"Relation\">\n",
       "                <thead> <tr style=\"text-align: right;\"> <th> <div class=\"djtooltip\">\n",
       "                                <p id=\"primary\">organization</p>\n",
       "                                <span class=\"djtooltiptext\"></span>\n",
       "                            </div></th><th><div class=\"djtooltip\">\n",
       "                                <p id=\"nonprimary\">logo_image</p>\n",
       "                                <span class=\"djtooltiptext\"></span>\n",
       "                            </div> </th> </tr> </thead>\n",
       "                <tbody> <tr> <td>pydata</td>\n",
       "<td>=BLOB=</td></tr><tr><td>utah</td>\n",
       "<td>=BLOB=</td></tr><tr><td>datajoint</td>\n",
       "<td>=BLOB=</td></tr><tr><td>ucsd</td>\n",
       "<td>=BLOB=</td></tr><tr><td>pni</td>\n",
       "<td>=BLOB=</td></tr><tr><td>python</td>\n",
       "<td>=BLOB=</td></tr><tr><td>bcm</td>\n",
       "<td>=BLOB=</td> </tr> </tbody>\n",
       "            </table>\n",
       "            \n",
       "            <p>Total: 7</p></div>\n",
       "            "
      ],
      "text/plain": [
       "*organization  logo_image\n",
       "+------------+ +--------+\n",
       "pydata         =BLOB=    \n",
       "utah           =BLOB=    \n",
       "datajoint      =BLOB=    \n",
       "ucsd           =BLOB=    \n",
       "pni            =BLOB=    \n",
       "python         =BLOB=    \n",
       "bcm            =BLOB=    \n",
       " (Total: 7)"
      ]
     },
     "execution_count": 12,
     "metadata": {},
     "output_type": "execute_result"
    }
   ],
   "source": [
    "Logo()"
   ]
  },
  {
   "cell_type": "code",
   "execution_count": 13,
   "metadata": {},
   "outputs": [
    {
     "data": {
      "text/plain": [
       "[{'organization': 'pydata',\n",
       "  'logo_image': '/home/dimitri/dev/db-programming-with-datajoint/notebooks/stage/organizations/logos/pydata.png'},\n",
       " {'organization': 'utah',\n",
       "  'logo_image': '/home/dimitri/dev/db-programming-with-datajoint/notebooks/stage/organizations/logos/utah.png'},\n",
       " {'organization': 'datajoint',\n",
       "  'logo_image': '/home/dimitri/dev/db-programming-with-datajoint/notebooks/stage/organizations/logos/datajoint.png'},\n",
       " {'organization': 'ucsd',\n",
       "  'logo_image': '/home/dimitri/dev/db-programming-with-datajoint/notebooks/stage/organizations/logos/ucsd.png'},\n",
       " {'organization': 'pni',\n",
       "  'logo_image': '/home/dimitri/dev/db-programming-with-datajoint/notebooks/stage/organizations/logos/pni.png'},\n",
       " {'organization': 'python',\n",
       "  'logo_image': '/home/dimitri/dev/db-programming-with-datajoint/notebooks/stage/organizations/logos/python.png'},\n",
       " {'organization': 'bcm',\n",
       "  'logo_image': '/home/dimitri/dev/db-programming-with-datajoint/notebooks/stage/organizations/logos/bcm.png'}]"
      ]
     },
     "execution_count": 13,
     "metadata": {},
     "output_type": "execute_result"
    }
   ],
   "source": [
    "Logo.fetch(as_dict=True)"
   ]
  },
  {
   "cell_type": "code",
   "execution_count": 14,
   "metadata": {},
   "outputs": [],
   "source": [
    "# delete the local repository completely\n",
    "import shutil\n",
    "shutil.rmtree(dj.config['stores']['remote']['stage'])"
   ]
  },
  {
   "cell_type": "code",
   "execution_count": 15,
   "metadata": {},
   "outputs": [],
   "source": [
    "paths = Logo().fetch('logo_image')"
   ]
  },
  {
   "cell_type": "code",
   "execution_count": 16,
   "metadata": {},
   "outputs": [
    {
     "data": {
      "text/plain": [
       "array(['/home/dimitri/dev/db-programming-with-datajoint/notebooks/stage/organizations/logos/pydata.png',\n",
       "       '/home/dimitri/dev/db-programming-with-datajoint/notebooks/stage/organizations/logos/utah.png',\n",
       "       '/home/dimitri/dev/db-programming-with-datajoint/notebooks/stage/organizations/logos/datajoint.png',\n",
       "       '/home/dimitri/dev/db-programming-with-datajoint/notebooks/stage/organizations/logos/ucsd.png',\n",
       "       '/home/dimitri/dev/db-programming-with-datajoint/notebooks/stage/organizations/logos/pni.png',\n",
       "       '/home/dimitri/dev/db-programming-with-datajoint/notebooks/stage/organizations/logos/python.png',\n",
       "       '/home/dimitri/dev/db-programming-with-datajoint/notebooks/stage/organizations/logos/bcm.png'],\n",
       "      dtype=object)"
      ]
     },
     "execution_count": 16,
     "metadata": {},
     "output_type": "execute_result"
    }
   ],
   "source": [
    "paths"
   ]
  },
  {
   "cell_type": "code",
   "execution_count": 17,
   "metadata": {},
   "outputs": [
    {
     "data": {
      "application/vnd.jupyter.widget-view+json": {
       "model_id": "3598ff4bf5fa401fb985cad84ec5d05e",
       "version_major": 2,
       "version_minor": 0
      },
      "text/plain": [
       "Image(value=b'\\x89PNG\\r\\n\\x1a\\n\\x00\\x00\\x00\\rIHDR\\x00\\x00\\x00\\xfb\\x00\\x00\\x00\\xc9\\x08\\x03\\x00\\x00\\x00\\xd2\\x1e\\…"
      ]
     },
     "metadata": {},
     "output_type": "display_data"
    }
   ],
   "source": [
    "Image.from_file(paths[4])"
   ]
  },
  {
   "cell_type": "code",
   "execution_count": 18,
   "metadata": {},
   "outputs": [
    {
     "name": "stdout",
     "output_type": "stream",
     "text": [
      "About to delete:\n",
      "`dimitri_filepath`.`_logo`: 2 items\n",
      "Proceed? [yes, No]: yes\n",
      "Committed.\n"
     ]
    }
   ],
   "source": [
    "(Logo & 'organization in (\"datajoint\", \"bcm\")').delete()"
   ]
  },
  {
   "cell_type": "code",
   "execution_count": 19,
   "metadata": {},
   "outputs": [],
   "source": [
    "ext = schema.external['remote']"
   ]
  },
  {
   "cell_type": "code",
   "execution_count": 20,
   "metadata": {},
   "outputs": [
    {
     "data": {
      "text/html": [
       "\n",
       "        \n",
       "        <style type=\"text/css\">\n",
       "            .Relation{\n",
       "                border-collapse:collapse;\n",
       "            }\n",
       "            .Relation th{\n",
       "                background: #A0A0A0; color: #ffffff; padding:4px; border:#f0e0e0 1px solid;\n",
       "                font-weight: normal; font-family: monospace; font-size: 100%;\n",
       "            }\n",
       "            .Relation td{\n",
       "                padding:4px; border:#f0e0e0 1px solid; font-size:100%;\n",
       "            }\n",
       "            .Relation tr:nth-child(odd){\n",
       "                background: #ffffff;\n",
       "            }\n",
       "            .Relation tr:nth-child(even){\n",
       "                background: #f3f1ff;\n",
       "            }\n",
       "            /* Tooltip container */\n",
       "            .djtooltip {\n",
       "            }\n",
       "            /* Tooltip text */\n",
       "            .djtooltip .djtooltiptext {\n",
       "                visibility: hidden;\n",
       "                width: 120px;\n",
       "                background-color: black;\n",
       "                color: #fff;\n",
       "                text-align: center;\n",
       "                padding: 5px 0;\n",
       "                border-radius: 6px;\n",
       "                /* Position the tooltip text - see examples below! */\n",
       "                position: absolute;\n",
       "                z-index: 1;\n",
       "            }\n",
       "            #primary {\n",
       "                font-weight: bold;\n",
       "                color: black;\n",
       "            }\n",
       "\n",
       "            #nonprimary {\n",
       "                font-weight: normal;\n",
       "                color: white;\n",
       "            }\n",
       "\n",
       "            /* Show the tooltip text when you mouse over the tooltip container */\n",
       "            .djtooltip:hover .djtooltiptext {\n",
       "                visibility: visible;\n",
       "            }\n",
       "        </style>\n",
       "        \n",
       "        <b>external storage tracking</b>\n",
       "            <div style=\"max-height:1000px;max-width:1500px;overflow:auto;\">\n",
       "            <table border=\"1\" class=\"Relation\">\n",
       "                <thead> <tr style=\"text-align: right;\"> <th> <div class=\"djtooltip\">\n",
       "                                <p id=\"primary\">hash</p>\n",
       "                                <span class=\"djtooltiptext\">hash of contents (blob), of filename + contents (attach), or relative filepath (filepath)</span>\n",
       "                            </div></th><th><div class=\"djtooltip\">\n",
       "                                <p id=\"nonprimary\">size</p>\n",
       "                                <span class=\"djtooltiptext\">size of object in bytes</span>\n",
       "                            </div></th><th><div class=\"djtooltip\">\n",
       "                                <p id=\"nonprimary\">filepath</p>\n",
       "                                <span class=\"djtooltiptext\">relative filepath used in the filepath datatype</span>\n",
       "                            </div></th><th><div class=\"djtooltip\">\n",
       "                                <p id=\"nonprimary\">contents_hash</p>\n",
       "                                <span class=\"djtooltiptext\">used for the filepath datatype</span>\n",
       "                            </div></th><th><div class=\"djtooltip\">\n",
       "                                <p id=\"nonprimary\">timestamp</p>\n",
       "                                <span class=\"djtooltiptext\">automatic timestamp</span>\n",
       "                            </div> </th> </tr> </thead>\n",
       "                <tbody> <tr> <td>3fd4b79b-9fdd-95c0-4074-68614d97f7e1</td>\n",
       "<td>162</td>\n",
       "<td>organizations/logos/pydata.png</td>\n",
       "<td>bc56979a-0b38-1a79-1dd5-9713198a87fb</td>\n",
       "<td>2019-07-30 16:50:40</td></tr><tr><td>56c820a9-e83c-02c9-8e76-7ba908192588</td>\n",
       "<td>13216</td>\n",
       "<td>organizations/logos/utah.png</td>\n",
       "<td>1c755e4b-a65f-5576-352e-729f0c5987da</td>\n",
       "<td>2019-07-30 16:50:41</td></tr><tr><td>6e7ba0be-2171-a2ab-163e-ff12b0943e8e</td>\n",
       "<td>36444</td>\n",
       "<td>organizations/logos/datajoint.png</td>\n",
       "<td>9e902f2f-726a-2da5-0a24-ee3b97892f8a</td>\n",
       "<td>2019-07-30 16:50:38</td></tr><tr><td>81dc7dae-bebc-6d38-b891-c48eee8e340a</td>\n",
       "<td>33734</td>\n",
       "<td>organizations/logos/ucsd.png</td>\n",
       "<td>914f5b55-ea69-7489-d45b-031bec3ecaa5</td>\n",
       "<td>2019-07-30 16:50:40</td></tr><tr><td>8c25c65d-506d-f382-0e36-88e1f6057ea3</td>\n",
       "<td>6293</td>\n",
       "<td>organizations/logos/pni.png</td>\n",
       "<td>0d59845d-5c75-24f8-20c8-9637517ed6a7</td>\n",
       "<td>2019-07-30 16:50:39</td></tr><tr><td>f35b5a91-38cb-bc7f-ef17-b2ce94bb0131</td>\n",
       "<td>83564</td>\n",
       "<td>organizations/logos/python.png</td>\n",
       "<td>3cf229ee-dc09-2549-277e-8859aad2fca5</td>\n",
       "<td>2019-07-30 16:50:40</td></tr><tr><td>f97ea212-5794-926a-d852-deffc0f10bba</td>\n",
       "<td>227965</td>\n",
       "<td>organizations/logos/bcm.png</td>\n",
       "<td>10ee4617-a63f-61ba-2807-35a266a9f488</td>\n",
       "<td>2019-07-30 16:50:38</td> </tr> </tbody>\n",
       "            </table>\n",
       "            \n",
       "            <p>Total: 7</p></div>\n",
       "            "
      ],
      "text/plain": [
       "*hash          size       filepath       contents_hash  timestamp     \n",
       "+------------+ +--------+ +------------+ +------------+ +------------+\n",
       "3fd4b79b-9fdd- 162        organizations/ bc56979a-0b38- 2019-07-30 16:\n",
       "56c820a9-e83c- 13216      organizations/ 1c755e4b-a65f- 2019-07-30 16:\n",
       "6e7ba0be-2171- 36444      organizations/ 9e902f2f-726a- 2019-07-30 16:\n",
       "81dc7dae-bebc- 33734      organizations/ 914f5b55-ea69- 2019-07-30 16:\n",
       "8c25c65d-506d- 6293       organizations/ 0d59845d-5c75- 2019-07-30 16:\n",
       "f35b5a91-38cb- 83564      organizations/ 3cf229ee-dc09- 2019-07-30 16:\n",
       "f97ea212-5794- 227965     organizations/ 10ee4617-a63f- 2019-07-30 16:\n",
       " (Total: 7)"
      ]
     },
     "execution_count": 20,
     "metadata": {},
     "output_type": "execute_result"
    }
   ],
   "source": [
    "ext"
   ]
  },
  {
   "cell_type": "code",
   "execution_count": 21,
   "metadata": {},
   "outputs": [
    {
     "name": "stdout",
     "output_type": "stream",
     "text": [
      "Deleted 2 items\n"
     ]
    }
   ],
   "source": [
    "ext.delete()"
   ]
  },
  {
   "cell_type": "code",
   "execution_count": 22,
   "metadata": {},
   "outputs": [
    {
     "name": "stdout",
     "output_type": "stream",
     "text": [
      "Deleting...\n",
      "  Deleted: 0 S3 objects; 0 failed.\n"
     ]
    }
   ],
   "source": [
    "ext.clean_blobs()"
   ]
  },
  {
   "cell_type": "code",
   "execution_count": 23,
   "metadata": {},
   "outputs": [
    {
     "data": {
      "text/plain": [
       "['dj/file-demo/organizations/logos/bcm.png',\n",
       " 'dj/file-demo/organizations/logos/datajoint.png']"
      ]
     },
     "execution_count": 23,
     "metadata": {},
     "output_type": "execute_result"
    }
   ],
   "source": [
    "list(ext.get_untracked_filepaths())"
   ]
  },
  {
   "cell_type": "code",
   "execution_count": 24,
   "metadata": {},
   "outputs": [],
   "source": [
    "states = dict(\n",
    "    AL='Alabama',        AK='Alaska',       AZ='Arizona',      AR='Arkansas',\n",
    "    CA='California',     CO='Colorado',     CT='Connecticut',  DE='Delaware',\n",
    "    FL='Florida',        GA='Georgia',      HI='Hawaii',       ID='Idaho', \n",
    "    IL='Illinois',       IN='Indiana',      IA='Iowa',         KS='Kansas',\n",
    "    KY='Kentucky',       LA='Louisiana',    ME='Maine',        MD='Maryland',\n",
    "    MA='Massachusetts',  MI='Michigan',     MN='Minnesota',    MS='Mississippi',\n",
    "    MO='Missouri',       MT='Montana',      NE='Nebraska',     NV='Nevada',\n",
    "    NH='New Hampshire',  NJ='New Jersey',   NM='New Mexico',   NY='New York',\n",
    "    NC='North Carolina', ND='North Dakota', OH='Ohio',         OK='Oklahoma',\n",
    "    OR='Oregon',         PA='Pennsylvania', RI='Rhode Island', SC='South Carlina',\n",
    "    SD='South Dakota',   TN='Tennessee',    TX='Texas',        UT='Utah',\n",
    "    VT='Vermont',        VA='Virginia',     WA='Washington',   WV='West Virginia', \n",
    "    WI='Wisconsin',      WY='Wyoming')"
   ]
  },
  {
   "cell_type": "code",
   "execution_count": 25,
   "metadata": {},
   "outputs": [],
   "source": [
    "@schema\n",
    "class State(dj.Lookup):\n",
    "    definition = \"\"\"\n",
    "    # United States\n",
    "    state_code : char(2)\n",
    "    ---\n",
    "    state : varchar(20)\n",
    "    \"\"\"\n",
    "    contents = states.items()"
   ]
  },
  {
   "cell_type": "code",
   "execution_count": 26,
   "metadata": {},
   "outputs": [
    {
     "data": {
      "text/html": [
       "\n",
       "        \n",
       "        <style type=\"text/css\">\n",
       "            .Relation{\n",
       "                border-collapse:collapse;\n",
       "            }\n",
       "            .Relation th{\n",
       "                background: #A0A0A0; color: #ffffff; padding:4px; border:#f0e0e0 1px solid;\n",
       "                font-weight: normal; font-family: monospace; font-size: 100%;\n",
       "            }\n",
       "            .Relation td{\n",
       "                padding:4px; border:#f0e0e0 1px solid; font-size:100%;\n",
       "            }\n",
       "            .Relation tr:nth-child(odd){\n",
       "                background: #ffffff;\n",
       "            }\n",
       "            .Relation tr:nth-child(even){\n",
       "                background: #f3f1ff;\n",
       "            }\n",
       "            /* Tooltip container */\n",
       "            .djtooltip {\n",
       "            }\n",
       "            /* Tooltip text */\n",
       "            .djtooltip .djtooltiptext {\n",
       "                visibility: hidden;\n",
       "                width: 120px;\n",
       "                background-color: black;\n",
       "                color: #fff;\n",
       "                text-align: center;\n",
       "                padding: 5px 0;\n",
       "                border-radius: 6px;\n",
       "                /* Position the tooltip text - see examples below! */\n",
       "                position: absolute;\n",
       "                z-index: 1;\n",
       "            }\n",
       "            #primary {\n",
       "                font-weight: bold;\n",
       "                color: black;\n",
       "            }\n",
       "\n",
       "            #nonprimary {\n",
       "                font-weight: normal;\n",
       "                color: white;\n",
       "            }\n",
       "\n",
       "            /* Show the tooltip text when you mouse over the tooltip container */\n",
       "            .djtooltip:hover .djtooltiptext {\n",
       "                visibility: visible;\n",
       "            }\n",
       "        </style>\n",
       "        \n",
       "        <b>United States</b>\n",
       "            <div style=\"max-height:1000px;max-width:1500px;overflow:auto;\">\n",
       "            <table border=\"1\" class=\"Relation\">\n",
       "                <thead> <tr style=\"text-align: right;\"> <th> <div class=\"djtooltip\">\n",
       "                                <p id=\"primary\">state_code</p>\n",
       "                                <span class=\"djtooltiptext\"></span>\n",
       "                            </div></th><th><div class=\"djtooltip\">\n",
       "                                <p id=\"nonprimary\">state</p>\n",
       "                                <span class=\"djtooltiptext\"></span>\n",
       "                            </div> </th> </tr> </thead>\n",
       "                <tbody> <tr> <td>AK</td>\n",
       "<td>Alaska</td></tr><tr><td>AL</td>\n",
       "<td>Alabama</td></tr><tr><td>AR</td>\n",
       "<td>Arkansas</td></tr><tr><td>AZ</td>\n",
       "<td>Arizona</td></tr><tr><td>CA</td>\n",
       "<td>California</td></tr><tr><td>CO</td>\n",
       "<td>Colorado</td></tr><tr><td>CT</td>\n",
       "<td>Connecticut</td> </tr> </tbody>\n",
       "            </table>\n",
       "            <p>...</p>\n",
       "            <p>Total: 50</p></div>\n",
       "            "
      ],
      "text/plain": [
       "*state_code    state         \n",
       "+------------+ +------------+\n",
       "AK             Alaska        \n",
       "AL             Alabama       \n",
       "AR             Arkansas      \n",
       "AZ             Arizona       \n",
       "CA             California    \n",
       "CO             Colorado      \n",
       "CT             Connecticut   \n",
       "   ...\n",
       " (Total: 50)"
      ]
     },
     "execution_count": 26,
     "metadata": {},
     "output_type": "execute_result"
    }
   ],
   "source": [
    "State()"
   ]
  },
  {
   "cell_type": "code",
   "execution_count": 27,
   "metadata": {},
   "outputs": [],
   "source": [
    "@schema\n",
    "class StateBird(dj.Imported):\n",
    "    definition = \"\"\"\n",
    "    -> State\n",
    "    ---\n",
    "    bird_image : filepath@remote    \n",
    "    \"\"\"\n",
    "    path = os.path.join(dj.config['stores']['remote']['stage'], 'states', 'birds')\n",
    "    \n",
    "    \n",
    "    def make(self, key):\n",
    "        os.makedirs(self.path, exist_ok=True)\n",
    "        state = (State & key).fetch1('state')\n",
    "        url = \"http://www.theus50.com/images/state-birds/{state}-bird.jpg\".format(state=state.lower())\n",
    "        local_file = os.path.join(self.path, state.lower() + os.path.splitext(url)[1])\n",
    "        print(local_file)\n",
    "        with open(local_file, 'wb') as f:\n",
    "            f.write(requests.get(url).content)\n",
    "        self.insert1(dict(key, bird_image=local_file))        \n"
   ]
  },
  {
   "cell_type": "code",
   "execution_count": 28,
   "metadata": {},
   "outputs": [
    {
     "name": "stdout",
     "output_type": "stream",
     "text": [
      "/home/dimitri/dev/db-programming-with-datajoint/notebooks/stage/states/birds/alaska.jpg\n",
      "/home/dimitri/dev/db-programming-with-datajoint/notebooks/stage/states/birds/alabama.jpg\n",
      "/home/dimitri/dev/db-programming-with-datajoint/notebooks/stage/states/birds/arkansas.jpg\n",
      "/home/dimitri/dev/db-programming-with-datajoint/notebooks/stage/states/birds/arizona.jpg\n",
      "/home/dimitri/dev/db-programming-with-datajoint/notebooks/stage/states/birds/california.jpg\n",
      "/home/dimitri/dev/db-programming-with-datajoint/notebooks/stage/states/birds/colorado.jpg\n",
      "/home/dimitri/dev/db-programming-with-datajoint/notebooks/stage/states/birds/connecticut.jpg\n",
      "/home/dimitri/dev/db-programming-with-datajoint/notebooks/stage/states/birds/delaware.jpg\n",
      "/home/dimitri/dev/db-programming-with-datajoint/notebooks/stage/states/birds/florida.jpg\n",
      "/home/dimitri/dev/db-programming-with-datajoint/notebooks/stage/states/birds/georgia.jpg\n",
      "/home/dimitri/dev/db-programming-with-datajoint/notebooks/stage/states/birds/hawaii.jpg\n",
      "/home/dimitri/dev/db-programming-with-datajoint/notebooks/stage/states/birds/iowa.jpg\n",
      "/home/dimitri/dev/db-programming-with-datajoint/notebooks/stage/states/birds/idaho.jpg\n",
      "/home/dimitri/dev/db-programming-with-datajoint/notebooks/stage/states/birds/illinois.jpg\n",
      "/home/dimitri/dev/db-programming-with-datajoint/notebooks/stage/states/birds/indiana.jpg\n",
      "/home/dimitri/dev/db-programming-with-datajoint/notebooks/stage/states/birds/kansas.jpg\n",
      "/home/dimitri/dev/db-programming-with-datajoint/notebooks/stage/states/birds/kentucky.jpg\n",
      "/home/dimitri/dev/db-programming-with-datajoint/notebooks/stage/states/birds/louisiana.jpg\n",
      "/home/dimitri/dev/db-programming-with-datajoint/notebooks/stage/states/birds/massachusetts.jpg\n",
      "/home/dimitri/dev/db-programming-with-datajoint/notebooks/stage/states/birds/maryland.jpg\n",
      "/home/dimitri/dev/db-programming-with-datajoint/notebooks/stage/states/birds/maine.jpg\n",
      "/home/dimitri/dev/db-programming-with-datajoint/notebooks/stage/states/birds/michigan.jpg\n",
      "/home/dimitri/dev/db-programming-with-datajoint/notebooks/stage/states/birds/minnesota.jpg\n",
      "/home/dimitri/dev/db-programming-with-datajoint/notebooks/stage/states/birds/missouri.jpg\n",
      "/home/dimitri/dev/db-programming-with-datajoint/notebooks/stage/states/birds/mississippi.jpg\n",
      "/home/dimitri/dev/db-programming-with-datajoint/notebooks/stage/states/birds/montana.jpg\n",
      "/home/dimitri/dev/db-programming-with-datajoint/notebooks/stage/states/birds/north carolina.jpg\n",
      "/home/dimitri/dev/db-programming-with-datajoint/notebooks/stage/states/birds/north dakota.jpg\n",
      "/home/dimitri/dev/db-programming-with-datajoint/notebooks/stage/states/birds/nebraska.jpg\n",
      "/home/dimitri/dev/db-programming-with-datajoint/notebooks/stage/states/birds/new hampshire.jpg\n",
      "/home/dimitri/dev/db-programming-with-datajoint/notebooks/stage/states/birds/new jersey.jpg\n",
      "/home/dimitri/dev/db-programming-with-datajoint/notebooks/stage/states/birds/new mexico.jpg\n",
      "/home/dimitri/dev/db-programming-with-datajoint/notebooks/stage/states/birds/nevada.jpg\n",
      "/home/dimitri/dev/db-programming-with-datajoint/notebooks/stage/states/birds/new york.jpg\n",
      "/home/dimitri/dev/db-programming-with-datajoint/notebooks/stage/states/birds/ohio.jpg\n",
      "/home/dimitri/dev/db-programming-with-datajoint/notebooks/stage/states/birds/oklahoma.jpg\n",
      "/home/dimitri/dev/db-programming-with-datajoint/notebooks/stage/states/birds/oregon.jpg\n",
      "/home/dimitri/dev/db-programming-with-datajoint/notebooks/stage/states/birds/pennsylvania.jpg\n",
      "/home/dimitri/dev/db-programming-with-datajoint/notebooks/stage/states/birds/rhode island.jpg\n",
      "/home/dimitri/dev/db-programming-with-datajoint/notebooks/stage/states/birds/south carlina.jpg\n",
      "/home/dimitri/dev/db-programming-with-datajoint/notebooks/stage/states/birds/south dakota.jpg\n",
      "/home/dimitri/dev/db-programming-with-datajoint/notebooks/stage/states/birds/tennessee.jpg\n",
      "/home/dimitri/dev/db-programming-with-datajoint/notebooks/stage/states/birds/texas.jpg\n",
      "/home/dimitri/dev/db-programming-with-datajoint/notebooks/stage/states/birds/utah.jpg\n",
      "/home/dimitri/dev/db-programming-with-datajoint/notebooks/stage/states/birds/virginia.jpg\n",
      "/home/dimitri/dev/db-programming-with-datajoint/notebooks/stage/states/birds/vermont.jpg\n",
      "/home/dimitri/dev/db-programming-with-datajoint/notebooks/stage/states/birds/washington.jpg\n",
      "/home/dimitri/dev/db-programming-with-datajoint/notebooks/stage/states/birds/wisconsin.jpg\n",
      "/home/dimitri/dev/db-programming-with-datajoint/notebooks/stage/states/birds/west virginia.jpg\n",
      "/home/dimitri/dev/db-programming-with-datajoint/notebooks/stage/states/birds/wyoming.jpg\n"
     ]
    }
   ],
   "source": [
    "StateBird.populate()"
   ]
  },
  {
   "cell_type": "code",
   "execution_count": 29,
   "metadata": {},
   "outputs": [],
   "source": [
    "@schema\n",
    "class StateFlower(dj.Imported):\n",
    "    definition = \"\"\"\n",
    "    -> State\n",
    "    ---\n",
    "    flower_image : filepath@remote    \n",
    "    \"\"\"\n",
    "    path = os.path.join(dj.config['stores']['remote']['stage'],'states', 'flowers')\n",
    "    \n",
    "    \n",
    "    def make(self, key):\n",
    "        os.makedirs(self.path, exist_ok=True)\n",
    "        state = (State & key).fetch1('state')\n",
    "        url = \"http://www.theus50.com/images/state-birds/{state}-flower.jpg\".format(state=state.lower())\n",
    "        local_file = os.path.join(self.path, state.lower() + os.path.splitext(url)[1])\n",
    "        print(local_file)\n",
    "        with open(local_file, 'wb') as f:\n",
    "            f.write(requests.get(url).content)\n",
    "        self.insert1(dict(key, flower_image=local_file))     "
   ]
  },
  {
   "cell_type": "code",
   "execution_count": 30,
   "metadata": {
    "scrolled": true
   },
   "outputs": [
    {
     "name": "stdout",
     "output_type": "stream",
     "text": [
      "/home/dimitri/dev/db-programming-with-datajoint/notebooks/stage/states/flowers/alaska.jpg\n",
      "/home/dimitri/dev/db-programming-with-datajoint/notebooks/stage/states/flowers/alabama.jpg\n",
      "/home/dimitri/dev/db-programming-with-datajoint/notebooks/stage/states/flowers/arkansas.jpg\n",
      "/home/dimitri/dev/db-programming-with-datajoint/notebooks/stage/states/flowers/arizona.jpg\n",
      "/home/dimitri/dev/db-programming-with-datajoint/notebooks/stage/states/flowers/california.jpg\n",
      "/home/dimitri/dev/db-programming-with-datajoint/notebooks/stage/states/flowers/colorado.jpg\n",
      "/home/dimitri/dev/db-programming-with-datajoint/notebooks/stage/states/flowers/connecticut.jpg\n",
      "/home/dimitri/dev/db-programming-with-datajoint/notebooks/stage/states/flowers/delaware.jpg\n",
      "/home/dimitri/dev/db-programming-with-datajoint/notebooks/stage/states/flowers/florida.jpg\n",
      "/home/dimitri/dev/db-programming-with-datajoint/notebooks/stage/states/flowers/georgia.jpg\n",
      "/home/dimitri/dev/db-programming-with-datajoint/notebooks/stage/states/flowers/hawaii.jpg\n",
      "/home/dimitri/dev/db-programming-with-datajoint/notebooks/stage/states/flowers/iowa.jpg\n",
      "/home/dimitri/dev/db-programming-with-datajoint/notebooks/stage/states/flowers/idaho.jpg\n",
      "/home/dimitri/dev/db-programming-with-datajoint/notebooks/stage/states/flowers/illinois.jpg\n",
      "/home/dimitri/dev/db-programming-with-datajoint/notebooks/stage/states/flowers/indiana.jpg\n",
      "/home/dimitri/dev/db-programming-with-datajoint/notebooks/stage/states/flowers/kansas.jpg\n",
      "/home/dimitri/dev/db-programming-with-datajoint/notebooks/stage/states/flowers/kentucky.jpg\n",
      "/home/dimitri/dev/db-programming-with-datajoint/notebooks/stage/states/flowers/louisiana.jpg\n",
      "/home/dimitri/dev/db-programming-with-datajoint/notebooks/stage/states/flowers/massachusetts.jpg\n",
      "/home/dimitri/dev/db-programming-with-datajoint/notebooks/stage/states/flowers/maryland.jpg\n",
      "/home/dimitri/dev/db-programming-with-datajoint/notebooks/stage/states/flowers/maine.jpg\n",
      "/home/dimitri/dev/db-programming-with-datajoint/notebooks/stage/states/flowers/michigan.jpg\n",
      "/home/dimitri/dev/db-programming-with-datajoint/notebooks/stage/states/flowers/minnesota.jpg\n",
      "/home/dimitri/dev/db-programming-with-datajoint/notebooks/stage/states/flowers/missouri.jpg\n",
      "/home/dimitri/dev/db-programming-with-datajoint/notebooks/stage/states/flowers/mississippi.jpg\n",
      "/home/dimitri/dev/db-programming-with-datajoint/notebooks/stage/states/flowers/montana.jpg\n",
      "/home/dimitri/dev/db-programming-with-datajoint/notebooks/stage/states/flowers/north carolina.jpg\n",
      "/home/dimitri/dev/db-programming-with-datajoint/notebooks/stage/states/flowers/north dakota.jpg\n",
      "/home/dimitri/dev/db-programming-with-datajoint/notebooks/stage/states/flowers/nebraska.jpg\n",
      "/home/dimitri/dev/db-programming-with-datajoint/notebooks/stage/states/flowers/new hampshire.jpg\n",
      "/home/dimitri/dev/db-programming-with-datajoint/notebooks/stage/states/flowers/new jersey.jpg\n",
      "/home/dimitri/dev/db-programming-with-datajoint/notebooks/stage/states/flowers/new mexico.jpg\n",
      "/home/dimitri/dev/db-programming-with-datajoint/notebooks/stage/states/flowers/nevada.jpg\n",
      "/home/dimitri/dev/db-programming-with-datajoint/notebooks/stage/states/flowers/new york.jpg\n",
      "/home/dimitri/dev/db-programming-with-datajoint/notebooks/stage/states/flowers/ohio.jpg\n",
      "/home/dimitri/dev/db-programming-with-datajoint/notebooks/stage/states/flowers/oklahoma.jpg\n",
      "/home/dimitri/dev/db-programming-with-datajoint/notebooks/stage/states/flowers/oregon.jpg\n",
      "/home/dimitri/dev/db-programming-with-datajoint/notebooks/stage/states/flowers/pennsylvania.jpg\n",
      "/home/dimitri/dev/db-programming-with-datajoint/notebooks/stage/states/flowers/rhode island.jpg\n",
      "/home/dimitri/dev/db-programming-with-datajoint/notebooks/stage/states/flowers/south carlina.jpg\n",
      "/home/dimitri/dev/db-programming-with-datajoint/notebooks/stage/states/flowers/south dakota.jpg\n",
      "/home/dimitri/dev/db-programming-with-datajoint/notebooks/stage/states/flowers/tennessee.jpg\n",
      "/home/dimitri/dev/db-programming-with-datajoint/notebooks/stage/states/flowers/texas.jpg\n",
      "/home/dimitri/dev/db-programming-with-datajoint/notebooks/stage/states/flowers/utah.jpg\n",
      "/home/dimitri/dev/db-programming-with-datajoint/notebooks/stage/states/flowers/virginia.jpg\n",
      "/home/dimitri/dev/db-programming-with-datajoint/notebooks/stage/states/flowers/vermont.jpg\n",
      "/home/dimitri/dev/db-programming-with-datajoint/notebooks/stage/states/flowers/washington.jpg\n",
      "/home/dimitri/dev/db-programming-with-datajoint/notebooks/stage/states/flowers/wisconsin.jpg\n",
      "/home/dimitri/dev/db-programming-with-datajoint/notebooks/stage/states/flowers/west virginia.jpg\n",
      "/home/dimitri/dev/db-programming-with-datajoint/notebooks/stage/states/flowers/wyoming.jpg\n"
     ]
    }
   ],
   "source": [
    "StateFlower().populate()"
   ]
  },
  {
   "cell_type": "code",
   "execution_count": 31,
   "metadata": {},
   "outputs": [
    {
     "data": {
      "image/svg+xml": [
       "<svg height=\"114pt\" viewBox=\"0.00 0.00 290.75 114.00\" width=\"291pt\" xmlns=\"http://www.w3.org/2000/svg\" xmlns:xlink=\"http://www.w3.org/1999/xlink\">\n",
       "<g class=\"graph\" id=\"graph0\" transform=\"scale(1 1) rotate(0) translate(4 110)\">\n",
       "<title>%3</title>\n",
       "<polygon fill=\"#ffffff\" points=\"-4,4 -4,-110 286.75,-110 286.75,4 -4,4\" stroke=\"transparent\"/>\n",
       "<!-- Logo -->\n",
       "<g class=\"node\" id=\"node1\">\n",
       "<title>Logo</title>\n",
       "<g id=\"a_node1\"><a xlink:title=\"→ Organization\r",
       "------------------------------\r",
       "logo_image           \r",
       "INDEX (logo_image)\r",
       "\">\n",
       "<ellipse cx=\"35.5\" cy=\"-17.5\" fill=\"#00007f\" fill-opacity=\"0.250980\" rx=\"27.5\" ry=\"17.5\" stroke=\"#00007f\" stroke-opacity=\"0.250980\"/>\n",
       "<text fill=\"#00007f\" font-family=\"arial\" font-size=\"12.00\" text-anchor=\"middle\" x=\"35.5\" y=\"-14.4\">Logo</text>\n",
       "</a>\n",
       "</g>\n",
       "</g>\n",
       "<!-- StateFlower -->\n",
       "<g class=\"node\" id=\"node2\">\n",
       "<title>StateFlower</title>\n",
       "<g id=\"a_node2\"><a xlink:title=\"→ State\r",
       "------------------------------\r",
       "flower_image         \r",
       "INDEX (flower_image)\r",
       "\">\n",
       "<ellipse cx=\"131.5\" cy=\"-17.5\" fill=\"#00007f\" fill-opacity=\"0.250980\" rx=\"50.7503\" ry=\"17.5\" stroke=\"#00007f\" stroke-opacity=\"0.250980\"/>\n",
       "<text fill=\"#00007f\" font-family=\"arial\" font-size=\"12.00\" text-anchor=\"middle\" x=\"131.5\" y=\"-14.4\">StateFlower</text>\n",
       "</a>\n",
       "</g>\n",
       "</g>\n",
       "<!-- Organization -->\n",
       "<g class=\"node\" id=\"node3\">\n",
       "<title>Organization</title>\n",
       "<g id=\"a_node3\"><a xlink:title=\"organization         \r",
       "------------------------------\r",
       "logo_url             \r",
       "\">\n",
       "<polygon fill=\"#000000\" fill-opacity=\"0.125490\" points=\"71,-106 0,-106 0,-71 71,-71 71,-106\" stroke=\"transparent\"/>\n",
       "<text fill=\"#000000\" font-family=\"arial\" font-size=\"10.00\" text-anchor=\"start\" text-decoration=\"underline\" x=\"8\" y=\"-87\">Organization</text>\n",
       "</a>\n",
       "</g>\n",
       "</g>\n",
       "<!-- Organization&#45;&gt;Logo -->\n",
       "<g class=\"edge\" id=\"edge1\">\n",
       "<title>Organization-&gt;Logo</title>\n",
       "<path d=\"M35.5,-70.9494C35.5,-60.1083 35.5,-46.2366 35.5,-35.3418\" fill=\"none\" stroke=\"#000000\" stroke-opacity=\"0.250980\" stroke-width=\"2\"/>\n",
       "</g>\n",
       "<!-- StateBird -->\n",
       "<g class=\"node\" id=\"node4\">\n",
       "<title>StateBird</title>\n",
       "<g id=\"a_node4\"><a xlink:title=\"→ State\r",
       "------------------------------\r",
       "bird_image           \r",
       "INDEX (bird_image)\r",
       "\">\n",
       "<ellipse cx=\"241.5\" cy=\"-17.5\" fill=\"#00007f\" fill-opacity=\"0.250980\" rx=\"41.0015\" ry=\"17.5\" stroke=\"#00007f\" stroke-opacity=\"0.250980\"/>\n",
       "<text fill=\"#00007f\" font-family=\"arial\" font-size=\"12.00\" text-anchor=\"middle\" x=\"241.5\" y=\"-14.4\">StateBird</text>\n",
       "</a>\n",
       "</g>\n",
       "</g>\n",
       "<!-- State -->\n",
       "<g class=\"node\" id=\"node5\">\n",
       "<title>State</title>\n",
       "<g id=\"a_node5\"><a xlink:title=\"state_code           \r",
       "------------------------------\r",
       "state                \r",
       "\">\n",
       "<polygon fill=\"#000000\" fill-opacity=\"0.125490\" points=\"206.5,-106 166.5,-106 166.5,-71 206.5,-71 206.5,-106\" stroke=\"transparent\"/>\n",
       "<text fill=\"#000000\" font-family=\"arial\" font-size=\"10.00\" text-anchor=\"start\" text-decoration=\"underline\" x=\"174.5\" y=\"-87\">State</text>\n",
       "</a>\n",
       "</g>\n",
       "</g>\n",
       "<!-- State&#45;&gt;StateFlower -->\n",
       "<g class=\"edge\" id=\"edge2\">\n",
       "<title>State-&gt;StateFlower</title>\n",
       "<path d=\"M172.9045,-70.9494C164.3792,-59.9441 153.4346,-45.8155 144.9391,-34.8487\" fill=\"none\" stroke=\"#000000\" stroke-opacity=\"0.250980\" stroke-width=\"2\"/>\n",
       "</g>\n",
       "<!-- State&#45;&gt;StateBird -->\n",
       "<g class=\"edge\" id=\"edge3\">\n",
       "<title>State-&gt;StateBird</title>\n",
       "<path d=\"M200.0955,-70.9494C208.748,-59.7798 219.8927,-45.3931 228.4396,-34.3598\" fill=\"none\" stroke=\"#000000\" stroke-opacity=\"0.250980\" stroke-width=\"2\"/>\n",
       "</g>\n",
       "</g>\n",
       "</svg>"
      ],
      "text/plain": [
       "<datajoint.diagram.Diagram at 0x7fb144cac6a0>"
      ]
     },
     "execution_count": 31,
     "metadata": {},
     "output_type": "execute_result"
    }
   ],
   "source": [
    "dj.Diagram(schema)"
   ]
  },
  {
   "cell_type": "code",
   "execution_count": null,
   "metadata": {},
   "outputs": [],
   "source": [
    "@schema\n",
    "class Table(dj.Manual):\n",
    "    definition = \"\"\"\n",
    "    table : int\n",
    "    ---\n",
    "    legs : int\n",
    "    area : float\n",
    "    \"\"\""
   ]
  },
  {
   "cell_type": "code",
   "execution_count": null,
   "metadata": {},
   "outputs": [],
   "source": [
    "Table.insert1((3, 8, 1002.4))"
   ]
  },
  {
   "cell_type": "code",
   "execution_count": null,
   "metadata": {},
   "outputs": [],
   "source": [
    "Table.proj(..., load = 'area/legs').fetch('legs', 'load', as_dict=True)"
   ]
  },
  {
   "cell_type": "code",
   "execution_count": null,
   "metadata": {},
   "outputs": [],
   "source": []
  }
 ],
 "metadata": {
  "kernelspec": {
   "display_name": "Python 3",
   "language": "python",
   "name": "python3"
  },
  "language_info": {
   "codemirror_mode": {
    "name": "ipython",
    "version": 3
   },
   "file_extension": ".py",
   "mimetype": "text/x-python",
   "name": "python",
   "nbconvert_exporter": "python",
   "pygments_lexer": "ipython3",
   "version": "3.7.3"
  }
 },
 "nbformat": 4,
 "nbformat_minor": 2
}
