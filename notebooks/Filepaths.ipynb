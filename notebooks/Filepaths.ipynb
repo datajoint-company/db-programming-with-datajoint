{
 "cells": [
  {
   "cell_type": "code",
   "execution_count": 1,
   "metadata": {},
   "outputs": [],
   "source": [
    "from IPython import display\n",
    "from ipywidgets import Image\n",
    "\n",
    "import os\n",
    "import datajoint as dj"
   ]
  },
  {
   "cell_type": "code",
   "execution_count": 2,
   "metadata": {},
   "outputs": [
    {
     "name": "stdout",
     "output_type": "stream",
     "text": [
      "Connecting dimitri@localhost:3306\n"
     ]
    }
   ],
   "source": [
    "schema = dj.schema('test_filepath')"
   ]
  },
  {
   "cell_type": "code",
   "execution_count": 7,
   "metadata": {},
   "outputs": [],
   "source": [
    "## Storage configuration\n",
    "\n",
    "# set up stores\n",
    "dj.config['stores'] = {\n",
    "    'remote': dict(   # store in minio\n",
    "        stage=os.path.abspath('./stage'),\n",
    "        protocol='s3',\n",
    "        endpoint='localhost:9000',\n",
    "        access_key='datajoint',\n",
    "        secret_key='datajoint',\n",
    "        bucket='datajoint-demo',        \n",
    "        location='dj/file-demo'),   \n",
    "    }"
   ]
  },
  {
   "cell_type": "markdown",
   "metadata": {},
   "source": [
    "## Download some images off the web into ./stage"
   ]
  },
  {
   "cell_type": "code",
   "execution_count": 3,
   "metadata": {},
   "outputs": [],
   "source": [
    "# Step 1: Find a bunch of images on the web\n",
    "logos = dict(\n",
    "    ucsd='https://upload.wikimedia.org/wikipedia/commons/f/f6/UCSD_logo.png',\n",
    "    datajoint='https://datajoint.io/static/images/DJiotitle.png',\n",
    "    utah='https://umc.utah.edu/wp-content/uploads/sites/15/2015/01/Ulogo_400p.png',\n",
    "    bcm='https://upload.wikimedia.org/wikipedia/commons/5/5d/Baylor_College_of_Medicine_Logo.png',\n",
    "    pydata='https://pydata.org/wp-content/uploads/2018/10/pydata-logo.png',\n",
    "    python='https://www.python.org/static/community_logos/python-logo-master-v3-TM.png',\n",
    "    pni='https://vathes.com/2018/05/24/Princeton-Neuroscience-Institute-Partners-with-Vathes-to-Support-the-Adoption-of-DataJoint/PNI%20logo.png')"
   ]
  },
  {
   "cell_type": "code",
   "execution_count": 4,
   "metadata": {},
   "outputs": [],
   "source": [
    "@schema\n",
    "class Organization(dj.Lookup):\n",
    "    definition = \"\"\"\n",
    "    organization : varchar(30)\n",
    "    --- \n",
    "    logo_url : varchar(255)\n",
    "    \"\"\"\n",
    "    contents = logos.items()"
   ]
  },
  {
   "cell_type": "code",
   "execution_count": 5,
   "metadata": {},
   "outputs": [
    {
     "data": {
      "text/html": [
       "\n",
       "        \n",
       "        <style type=\"text/css\">\n",
       "            .Relation{\n",
       "                border-collapse:collapse;\n",
       "            }\n",
       "            .Relation th{\n",
       "                background: #A0A0A0; color: #ffffff; padding:4px; border:#f0e0e0 1px solid;\n",
       "                font-weight: normal; font-family: monospace; font-size: 100%;\n",
       "            }\n",
       "            .Relation td{\n",
       "                padding:4px; border:#f0e0e0 1px solid; font-size:100%;\n",
       "            }\n",
       "            .Relation tr:nth-child(odd){\n",
       "                background: #ffffff;\n",
       "            }\n",
       "            .Relation tr:nth-child(even){\n",
       "                background: #f3f1ff;\n",
       "            }\n",
       "            /* Tooltip container */\n",
       "            .djtooltip {\n",
       "            }\n",
       "            /* Tooltip text */\n",
       "            .djtooltip .djtooltiptext {\n",
       "                visibility: hidden;\n",
       "                width: 120px;\n",
       "                background-color: black;\n",
       "                color: #fff;\n",
       "                text-align: center;\n",
       "                padding: 5px 0;\n",
       "                border-radius: 6px;\n",
       "                /* Position the tooltip text - see examples below! */\n",
       "                position: absolute;\n",
       "                z-index: 1;\n",
       "            }\n",
       "            #primary {\n",
       "                font-weight: bold;\n",
       "                color: black;\n",
       "            }\n",
       "\n",
       "            #nonprimary {\n",
       "                font-weight: normal;\n",
       "                color: white;\n",
       "            }\n",
       "\n",
       "            /* Show the tooltip text when you mouse over the tooltip container */\n",
       "            .djtooltip:hover .djtooltiptext {\n",
       "                visibility: visible;\n",
       "            }\n",
       "        </style>\n",
       "        \n",
       "        <b></b>\n",
       "            <div style=\"max-height:1000px;max-width:1500px;overflow:auto;\">\n",
       "            <table border=\"1\" class=\"Relation\">\n",
       "                <thead> <tr style=\"text-align: right;\"> <th> <div class=\"djtooltip\">\n",
       "                                <p id=\"primary\">organization</p>\n",
       "                                <span class=\"djtooltiptext\"></span>\n",
       "                            </div></th><th><div class=\"djtooltip\">\n",
       "                                <p id=\"nonprimary\">logo_url</p>\n",
       "                                <span class=\"djtooltiptext\"></span>\n",
       "                            </div> </th> </tr> </thead>\n",
       "                <tbody> <tr> <td>bcm</td>\n",
       "<td>https://upload.wikimedia.org/wikipedia/commons/5/5d/Baylor_College_of_Medicine_Logo.png</td></tr><tr><td>datajoint</td>\n",
       "<td>https://datajoint.io/static/images/DJiotitle.png</td></tr><tr><td>pni</td>\n",
       "<td>https://vathes.com/2018/05/24/Princeton-Neuroscience-Institute-Partners-with-Vathes-to-Support-the-Adoption-of-DataJoint/PNI%20logo.png</td> </tr> </tbody>\n",
       "            </table>\n",
       "            <p>...</p>\n",
       "            <p>Total: 7</p></div>\n",
       "            "
      ],
      "text/plain": [
       "*organization  logo_url      \n",
       "+------------+ +------------+\n",
       "bcm            https://upload\n",
       "datajoint      https://datajo\n",
       "pni            https://vathes\n",
       "   ...\n",
       " (Total: 7)"
      ]
     },
     "execution_count": 5,
     "metadata": {},
     "output_type": "execute_result"
    }
   ],
   "source": [
    "Organization()"
   ]
  },
  {
   "cell_type": "code",
   "execution_count": 8,
   "metadata": {},
   "outputs": [],
   "source": [
    "import requests \n",
    "\n",
    "@schema\n",
    "class Logo(dj.Imported):\n",
    "    definition = \"\"\"\n",
    "    -> Organization\n",
    "    ---\n",
    "    logo_image : filepath@remote\n",
    "    \"\"\"\n",
    "    \n",
    "    path = os.path.join(dj.config['stores']['remote']['stage'], 'organizations', 'logos')\n",
    "    \n",
    "    def make(self, key):\n",
    "        os.makedirs(self.path, exist_ok=True)\n",
    "        url = (Organization & key).fetch1('logo_url')\n",
    "        local_file = os.path.join(self.path, key['organization'] + os.path.splitext(url)[1])\n",
    "        print(local_file)\n",
    "        with open(local_file, 'wb') as f:\n",
    "            f.write(requests.get(url).content)\n",
    "        self.insert1(dict(key, logo_image=local_file))        "
   ]
  },
  {
   "cell_type": "code",
   "execution_count": 25,
   "metadata": {},
   "outputs": [
    {
     "name": "stdout",
     "output_type": "stream",
     "text": [
      "/home/dimitri/dev/db-programming-with-datajoint/notebooks/stage/organizations/logos/bcm.png\n",
      "/home/dimitri/dev/db-programming-with-datajoint/notebooks/stage/organizations/logos/datajoint.png\n"
     ]
    }
   ],
   "source": [
    "Logo.populate()"
   ]
  },
  {
   "cell_type": "code",
   "execution_count": 10,
   "metadata": {},
   "outputs": [
    {
     "data": {
      "text/html": [
       "\n",
       "        \n",
       "        <style type=\"text/css\">\n",
       "            .Relation{\n",
       "                border-collapse:collapse;\n",
       "            }\n",
       "            .Relation th{\n",
       "                background: #A0A0A0; color: #ffffff; padding:4px; border:#f0e0e0 1px solid;\n",
       "                font-weight: normal; font-family: monospace; font-size: 100%;\n",
       "            }\n",
       "            .Relation td{\n",
       "                padding:4px; border:#f0e0e0 1px solid; font-size:100%;\n",
       "            }\n",
       "            .Relation tr:nth-child(odd){\n",
       "                background: #ffffff;\n",
       "            }\n",
       "            .Relation tr:nth-child(even){\n",
       "                background: #f3f1ff;\n",
       "            }\n",
       "            /* Tooltip container */\n",
       "            .djtooltip {\n",
       "            }\n",
       "            /* Tooltip text */\n",
       "            .djtooltip .djtooltiptext {\n",
       "                visibility: hidden;\n",
       "                width: 120px;\n",
       "                background-color: black;\n",
       "                color: #fff;\n",
       "                text-align: center;\n",
       "                padding: 5px 0;\n",
       "                border-radius: 6px;\n",
       "                /* Position the tooltip text - see examples below! */\n",
       "                position: absolute;\n",
       "                z-index: 1;\n",
       "            }\n",
       "            #primary {\n",
       "                font-weight: bold;\n",
       "                color: black;\n",
       "            }\n",
       "\n",
       "            #nonprimary {\n",
       "                font-weight: normal;\n",
       "                color: white;\n",
       "            }\n",
       "\n",
       "            /* Show the tooltip text when you mouse over the tooltip container */\n",
       "            .djtooltip:hover .djtooltiptext {\n",
       "                visibility: visible;\n",
       "            }\n",
       "        </style>\n",
       "        \n",
       "        <b></b>\n",
       "            <div style=\"max-height:1000px;max-width:1500px;overflow:auto;\">\n",
       "            <table border=\"1\" class=\"Relation\">\n",
       "                <thead> <tr style=\"text-align: right;\"> <th> <div class=\"djtooltip\">\n",
       "                                <p id=\"primary\">organization</p>\n",
       "                                <span class=\"djtooltiptext\"></span>\n",
       "                            </div></th><th><div class=\"djtooltip\">\n",
       "                                <p id=\"nonprimary\">logo_image</p>\n",
       "                                <span class=\"djtooltiptext\"></span>\n",
       "                            </div> </th> </tr> </thead>\n",
       "                <tbody> <tr> <td>pydata</td>\n",
       "<td>=BLOB=</td></tr><tr><td>utah</td>\n",
       "<td>=BLOB=</td></tr><tr><td>datajoint</td>\n",
       "<td>=BLOB=</td> </tr> </tbody>\n",
       "            </table>\n",
       "            <p>...</p>\n",
       "            <p>Total: 7</p></div>\n",
       "            "
      ],
      "text/plain": [
       "*organization  logo_image\n",
       "+------------+ +--------+\n",
       "pydata         =BLOB=    \n",
       "utah           =BLOB=    \n",
       "datajoint      =BLOB=    \n",
       "   ...\n",
       " (Total: 7)"
      ]
     },
     "execution_count": 10,
     "metadata": {},
     "output_type": "execute_result"
    }
   ],
   "source": [
    "Logo()"
   ]
  },
  {
   "cell_type": "code",
   "execution_count": 11,
   "metadata": {},
   "outputs": [
    {
     "data": {
      "text/plain": [
       "[{'organization': 'pydata',\n",
       "  'logo_image': '/home/dimitri/dev/db-programming-with-datajoint/notebooks/stage/organizations/logos/pydata.png'},\n",
       " {'organization': 'utah',\n",
       "  'logo_image': '/home/dimitri/dev/db-programming-with-datajoint/notebooks/stage/organizations/logos/utah.png'},\n",
       " {'organization': 'datajoint',\n",
       "  'logo_image': '/home/dimitri/dev/db-programming-with-datajoint/notebooks/stage/organizations/logos/datajoint.png'},\n",
       " {'organization': 'ucsd',\n",
       "  'logo_image': '/home/dimitri/dev/db-programming-with-datajoint/notebooks/stage/organizations/logos/ucsd.png'},\n",
       " {'organization': 'pni',\n",
       "  'logo_image': '/home/dimitri/dev/db-programming-with-datajoint/notebooks/stage/organizations/logos/pni.png'},\n",
       " {'organization': 'python',\n",
       "  'logo_image': '/home/dimitri/dev/db-programming-with-datajoint/notebooks/stage/organizations/logos/python.png'},\n",
       " {'organization': 'bcm',\n",
       "  'logo_image': '/home/dimitri/dev/db-programming-with-datajoint/notebooks/stage/organizations/logos/bcm.png'}]"
      ]
     },
     "execution_count": 11,
     "metadata": {},
     "output_type": "execute_result"
    }
   ],
   "source": [
    "Logo.fetch(as_dict=True)"
   ]
  },
  {
   "cell_type": "code",
   "execution_count": 12,
   "metadata": {},
   "outputs": [],
   "source": [
    "# delete the local repository completely\n",
    "import shutil\n",
    "shutil.rmtree(dj.config['stores']['remote']['stage'])"
   ]
  },
  {
   "cell_type": "code",
   "execution_count": 13,
   "metadata": {},
   "outputs": [],
   "source": [
    "paths = Logo().fetch('logo_image')"
   ]
  },
  {
   "cell_type": "code",
   "execution_count": 14,
   "metadata": {},
   "outputs": [
    {
     "data": {
      "text/plain": [
       "array(['/home/dimitri/dev/db-programming-with-datajoint/notebooks/stage/organizations/logos/pydata.png',\n",
       "       '/home/dimitri/dev/db-programming-with-datajoint/notebooks/stage/organizations/logos/utah.png',\n",
       "       '/home/dimitri/dev/db-programming-with-datajoint/notebooks/stage/organizations/logos/datajoint.png',\n",
       "       '/home/dimitri/dev/db-programming-with-datajoint/notebooks/stage/organizations/logos/ucsd.png',\n",
       "       '/home/dimitri/dev/db-programming-with-datajoint/notebooks/stage/organizations/logos/pni.png',\n",
       "       '/home/dimitri/dev/db-programming-with-datajoint/notebooks/stage/organizations/logos/python.png',\n",
       "       '/home/dimitri/dev/db-programming-with-datajoint/notebooks/stage/organizations/logos/bcm.png'],\n",
       "      dtype=object)"
      ]
     },
     "execution_count": 14,
     "metadata": {},
     "output_type": "execute_result"
    }
   ],
   "source": [
    "paths"
   ]
  },
  {
   "cell_type": "code",
   "execution_count": 18,
   "metadata": {},
   "outputs": [
    {
     "data": {
      "application/vnd.jupyter.widget-view+json": {
       "model_id": "004ccb36b6a34dc48e961db8724db181",
       "version_major": 2,
       "version_minor": 0
      },
      "text/plain": [
       "Image(value=b'\\x89PNG\\r\\n\\x1a\\n\\x00\\x00\\x00\\rIHDR\\x00\\x00\\x02Y\\x00\\x00\\x00\\xcb\\x08\\x06\\x00\\x00\\x00]\\xc9\\x86&\\x…"
      ]
     },
     "metadata": {},
     "output_type": "display_data"
    }
   ],
   "source": [
    "Image.from_file(paths[5])"
   ]
  },
  {
   "cell_type": "code",
   "execution_count": 19,
   "metadata": {},
   "outputs": [
    {
     "name": "stdout",
     "output_type": "stream",
     "text": [
      "About to delete:\n",
      "`test_filepath`.`_logo`: 2 items\n",
      "Proceed? [yes, No]: yes\n",
      "Committed.\n"
     ]
    }
   ],
   "source": [
    "(Logo & 'organization in (\"datajoint\", \"bcm\")').delete()"
   ]
  },
  {
   "cell_type": "code",
   "execution_count": 20,
   "metadata": {},
   "outputs": [],
   "source": [
    "ext = schema.external['remote']"
   ]
  },
  {
   "cell_type": "code",
   "execution_count": 21,
   "metadata": {},
   "outputs": [
    {
     "name": "stdout",
     "output_type": "stream",
     "text": [
      "Deleted 2 items\n"
     ]
    }
   ],
   "source": [
    "ext.delete()"
   ]
  },
  {
   "cell_type": "code",
   "execution_count": 23,
   "metadata": {},
   "outputs": [
    {
     "name": "stdout",
     "output_type": "stream",
     "text": [
      "Finding untracking files...\n",
      "Deleting...\n",
      "Done\n"
     ]
    }
   ],
   "source": [
    "ext.clean_filepaths()"
   ]
  },
  {
   "cell_type": "code",
   "execution_count": 24,
   "metadata": {},
   "outputs": [
    {
     "data": {
      "text/plain": [
       "[]"
      ]
     },
     "execution_count": 24,
     "metadata": {},
     "output_type": "execute_result"
    }
   ],
   "source": [
    "list(ext.get_untracked_filepaths())"
   ]
  },
  {
   "cell_type": "code",
   "execution_count": 26,
   "metadata": {},
   "outputs": [],
   "source": [
    "states = dict(\n",
    "    AL='Alabama',        AK='Alaska',       AZ='Arizona',      AR='Arkansas',\n",
    "    CA='California',     CO='Colorado',     CT='Connecticut',  DE='Delaware',\n",
    "    FL='Florida',        GA='Georgia',      HI='Hawaii',       ID='Idaho', \n",
    "    IL='Illinois',       IN='Indiana',      IA='Iowa',         KS='Kansas',\n",
    "    KY='Kentucky',       LA='Louisiana',    ME='Maine',        MD='Maryland',\n",
    "    MA='Massachusetts',  MI='Michigan',     MN='Minnesota',    MS='Mississippi',\n",
    "    MO='Missouri',       MT='Montana',      NE='Nebraska',     NV='Nevada',\n",
    "    NH='New Hampshire',  NJ='New Jersey',   NM='New Mexico',   NY='New York',\n",
    "    NC='North Carolina', ND='North Dakota', OH='Ohio',         OK='Oklahoma',\n",
    "    OR='Oregon',         PA='Pennsylvania', RI='Rhode Island', SC='South Carlina',\n",
    "    SD='South Dakota',   TN='Tennessee',    TX='Texas',        UT='Utah',\n",
    "    VT='Vermont',        VA='Virginia',     WA='Washington',   WV='West Virginia', \n",
    "    WI='Wisconsin',      WY='Wyoming')"
   ]
  },
  {
   "cell_type": "code",
   "execution_count": 27,
   "metadata": {},
   "outputs": [],
   "source": [
    "@schema\n",
    "class State(dj.Lookup):\n",
    "    definition = \"\"\"\n",
    "    # United States\n",
    "    state_code : char(2)\n",
    "    ---\n",
    "    state : varchar(20)\n",
    "    \"\"\"\n",
    "    contents = states.items()"
   ]
  },
  {
   "cell_type": "code",
   "execution_count": 28,
   "metadata": {},
   "outputs": [
    {
     "data": {
      "text/html": [
       "\n",
       "        \n",
       "        <style type=\"text/css\">\n",
       "            .Relation{\n",
       "                border-collapse:collapse;\n",
       "            }\n",
       "            .Relation th{\n",
       "                background: #A0A0A0; color: #ffffff; padding:4px; border:#f0e0e0 1px solid;\n",
       "                font-weight: normal; font-family: monospace; font-size: 100%;\n",
       "            }\n",
       "            .Relation td{\n",
       "                padding:4px; border:#f0e0e0 1px solid; font-size:100%;\n",
       "            }\n",
       "            .Relation tr:nth-child(odd){\n",
       "                background: #ffffff;\n",
       "            }\n",
       "            .Relation tr:nth-child(even){\n",
       "                background: #f3f1ff;\n",
       "            }\n",
       "            /* Tooltip container */\n",
       "            .djtooltip {\n",
       "            }\n",
       "            /* Tooltip text */\n",
       "            .djtooltip .djtooltiptext {\n",
       "                visibility: hidden;\n",
       "                width: 120px;\n",
       "                background-color: black;\n",
       "                color: #fff;\n",
       "                text-align: center;\n",
       "                padding: 5px 0;\n",
       "                border-radius: 6px;\n",
       "                /* Position the tooltip text - see examples below! */\n",
       "                position: absolute;\n",
       "                z-index: 1;\n",
       "            }\n",
       "            #primary {\n",
       "                font-weight: bold;\n",
       "                color: black;\n",
       "            }\n",
       "\n",
       "            #nonprimary {\n",
       "                font-weight: normal;\n",
       "                color: white;\n",
       "            }\n",
       "\n",
       "            /* Show the tooltip text when you mouse over the tooltip container */\n",
       "            .djtooltip:hover .djtooltiptext {\n",
       "                visibility: visible;\n",
       "            }\n",
       "        </style>\n",
       "        \n",
       "        <b>United States</b>\n",
       "            <div style=\"max-height:1000px;max-width:1500px;overflow:auto;\">\n",
       "            <table border=\"1\" class=\"Relation\">\n",
       "                <thead> <tr style=\"text-align: right;\"> <th> <div class=\"djtooltip\">\n",
       "                                <p id=\"primary\">state_code</p>\n",
       "                                <span class=\"djtooltiptext\"></span>\n",
       "                            </div></th><th><div class=\"djtooltip\">\n",
       "                                <p id=\"nonprimary\">state</p>\n",
       "                                <span class=\"djtooltiptext\"></span>\n",
       "                            </div> </th> </tr> </thead>\n",
       "                <tbody> <tr> <td>AK</td>\n",
       "<td>Alaska</td></tr><tr><td>AL</td>\n",
       "<td>Alabama</td></tr><tr><td>AR</td>\n",
       "<td>Arkansas</td> </tr> </tbody>\n",
       "            </table>\n",
       "            <p>...</p>\n",
       "            <p>Total: 50</p></div>\n",
       "            "
      ],
      "text/plain": [
       "*state_code    state       \n",
       "+------------+ +----------+\n",
       "AK             Alaska      \n",
       "AL             Alabama     \n",
       "AR             Arkansas    \n",
       "   ...\n",
       " (Total: 50)"
      ]
     },
     "execution_count": 28,
     "metadata": {},
     "output_type": "execute_result"
    }
   ],
   "source": [
    "State()"
   ]
  },
  {
   "cell_type": "code",
   "execution_count": 29,
   "metadata": {},
   "outputs": [],
   "source": [
    "@schema\n",
    "class StateBird(dj.Imported):\n",
    "    definition = \"\"\"\n",
    "    -> State\n",
    "    ---\n",
    "    bird_image : filepath@remote    \n",
    "    \"\"\"\n",
    "    path = os.path.join(dj.config['stores']['remote']['stage'], 'states', 'birds')\n",
    "    \n",
    "    \n",
    "    def make(self, key):\n",
    "        os.makedirs(self.path, exist_ok=True)\n",
    "        state = (State & key).fetch1('state')\n",
    "        url = \"http://www.theus50.com/images/state-birds/{state}-bird.jpg\".format(state=state.lower())\n",
    "        local_file = os.path.join(self.path, state.lower() + os.path.splitext(url)[1])\n",
    "        print(local_file)\n",
    "        with open(local_file, 'wb') as f:\n",
    "            f.write(requests.get(url).content)\n",
    "        self.insert1(dict(key, bird_image=local_file))        \n"
   ]
  },
  {
   "cell_type": "code",
   "execution_count": 30,
   "metadata": {},
   "outputs": [
    {
     "name": "stdout",
     "output_type": "stream",
     "text": [
      "/home/dimitri/dev/db-programming-with-datajoint/notebooks/stage/states/birds/alaska.jpg\n",
      "/home/dimitri/dev/db-programming-with-datajoint/notebooks/stage/states/birds/alabama.jpg\n",
      "/home/dimitri/dev/db-programming-with-datajoint/notebooks/stage/states/birds/arkansas.jpg\n",
      "/home/dimitri/dev/db-programming-with-datajoint/notebooks/stage/states/birds/arizona.jpg\n",
      "/home/dimitri/dev/db-programming-with-datajoint/notebooks/stage/states/birds/california.jpg\n",
      "/home/dimitri/dev/db-programming-with-datajoint/notebooks/stage/states/birds/colorado.jpg\n",
      "/home/dimitri/dev/db-programming-with-datajoint/notebooks/stage/states/birds/connecticut.jpg\n",
      "/home/dimitri/dev/db-programming-with-datajoint/notebooks/stage/states/birds/delaware.jpg\n",
      "/home/dimitri/dev/db-programming-with-datajoint/notebooks/stage/states/birds/florida.jpg\n",
      "/home/dimitri/dev/db-programming-with-datajoint/notebooks/stage/states/birds/georgia.jpg\n",
      "/home/dimitri/dev/db-programming-with-datajoint/notebooks/stage/states/birds/hawaii.jpg\n",
      "/home/dimitri/dev/db-programming-with-datajoint/notebooks/stage/states/birds/iowa.jpg\n",
      "/home/dimitri/dev/db-programming-with-datajoint/notebooks/stage/states/birds/idaho.jpg\n",
      "/home/dimitri/dev/db-programming-with-datajoint/notebooks/stage/states/birds/illinois.jpg\n",
      "/home/dimitri/dev/db-programming-with-datajoint/notebooks/stage/states/birds/indiana.jpg\n",
      "/home/dimitri/dev/db-programming-with-datajoint/notebooks/stage/states/birds/kansas.jpg\n",
      "/home/dimitri/dev/db-programming-with-datajoint/notebooks/stage/states/birds/kentucky.jpg\n",
      "/home/dimitri/dev/db-programming-with-datajoint/notebooks/stage/states/birds/louisiana.jpg\n",
      "/home/dimitri/dev/db-programming-with-datajoint/notebooks/stage/states/birds/massachusetts.jpg\n",
      "/home/dimitri/dev/db-programming-with-datajoint/notebooks/stage/states/birds/maryland.jpg\n",
      "/home/dimitri/dev/db-programming-with-datajoint/notebooks/stage/states/birds/maine.jpg\n",
      "/home/dimitri/dev/db-programming-with-datajoint/notebooks/stage/states/birds/michigan.jpg\n",
      "/home/dimitri/dev/db-programming-with-datajoint/notebooks/stage/states/birds/minnesota.jpg\n",
      "/home/dimitri/dev/db-programming-with-datajoint/notebooks/stage/states/birds/missouri.jpg\n",
      "/home/dimitri/dev/db-programming-with-datajoint/notebooks/stage/states/birds/mississippi.jpg\n",
      "/home/dimitri/dev/db-programming-with-datajoint/notebooks/stage/states/birds/montana.jpg\n",
      "/home/dimitri/dev/db-programming-with-datajoint/notebooks/stage/states/birds/north carolina.jpg\n",
      "/home/dimitri/dev/db-programming-with-datajoint/notebooks/stage/states/birds/north dakota.jpg\n",
      "/home/dimitri/dev/db-programming-with-datajoint/notebooks/stage/states/birds/nebraska.jpg\n",
      "/home/dimitri/dev/db-programming-with-datajoint/notebooks/stage/states/birds/new hampshire.jpg\n",
      "/home/dimitri/dev/db-programming-with-datajoint/notebooks/stage/states/birds/new jersey.jpg\n",
      "/home/dimitri/dev/db-programming-with-datajoint/notebooks/stage/states/birds/new mexico.jpg\n",
      "/home/dimitri/dev/db-programming-with-datajoint/notebooks/stage/states/birds/nevada.jpg\n",
      "/home/dimitri/dev/db-programming-with-datajoint/notebooks/stage/states/birds/new york.jpg\n",
      "/home/dimitri/dev/db-programming-with-datajoint/notebooks/stage/states/birds/ohio.jpg\n",
      "/home/dimitri/dev/db-programming-with-datajoint/notebooks/stage/states/birds/oklahoma.jpg\n",
      "/home/dimitri/dev/db-programming-with-datajoint/notebooks/stage/states/birds/oregon.jpg\n",
      "/home/dimitri/dev/db-programming-with-datajoint/notebooks/stage/states/birds/pennsylvania.jpg\n",
      "/home/dimitri/dev/db-programming-with-datajoint/notebooks/stage/states/birds/rhode island.jpg\n",
      "/home/dimitri/dev/db-programming-with-datajoint/notebooks/stage/states/birds/south carlina.jpg\n",
      "/home/dimitri/dev/db-programming-with-datajoint/notebooks/stage/states/birds/south dakota.jpg\n",
      "/home/dimitri/dev/db-programming-with-datajoint/notebooks/stage/states/birds/tennessee.jpg\n",
      "/home/dimitri/dev/db-programming-with-datajoint/notebooks/stage/states/birds/texas.jpg\n",
      "/home/dimitri/dev/db-programming-with-datajoint/notebooks/stage/states/birds/utah.jpg\n",
      "/home/dimitri/dev/db-programming-with-datajoint/notebooks/stage/states/birds/virginia.jpg\n",
      "/home/dimitri/dev/db-programming-with-datajoint/notebooks/stage/states/birds/vermont.jpg\n",
      "/home/dimitri/dev/db-programming-with-datajoint/notebooks/stage/states/birds/washington.jpg\n",
      "/home/dimitri/dev/db-programming-with-datajoint/notebooks/stage/states/birds/wisconsin.jpg\n",
      "/home/dimitri/dev/db-programming-with-datajoint/notebooks/stage/states/birds/west virginia.jpg\n",
      "/home/dimitri/dev/db-programming-with-datajoint/notebooks/stage/states/birds/wyoming.jpg\n"
     ]
    }
   ],
   "source": [
    "StateBird.populate()"
   ]
  },
  {
   "cell_type": "code",
   "execution_count": 31,
   "metadata": {},
   "outputs": [],
   "source": [
    "@schema\n",
    "class StateFlower(dj.Imported):\n",
    "    definition = \"\"\"\n",
    "    -> State\n",
    "    ---\n",
    "    flower_image : filepath@remote    \n",
    "    \"\"\"\n",
    "    path = os.path.join(dj.config['stores']['remote']['stage'],'states', 'flowers')\n",
    "    \n",
    "    \n",
    "    def make(self, key):\n",
    "        os.makedirs(self.path, exist_ok=True)\n",
    "        state = (State & key).fetch1('state')\n",
    "        url = \"http://www.theus50.com/images/state-birds/{state}-flower.jpg\".format(state=state.lower())\n",
    "        local_file = os.path.join(self.path, state.lower() + os.path.splitext(url)[1])\n",
    "        print(local_file)\n",
    "        with open(local_file, 'wb') as f:\n",
    "            f.write(requests.get(url).content)\n",
    "        self.insert1(dict(key, flower_image=local_file))     "
   ]
  },
  {
   "cell_type": "code",
   "execution_count": 32,
   "metadata": {},
   "outputs": [
    {
     "name": "stdout",
     "output_type": "stream",
     "text": [
      "/home/dimitri/dev/db-programming-with-datajoint/notebooks/stage/states/flowers/alaska.jpg\n",
      "/home/dimitri/dev/db-programming-with-datajoint/notebooks/stage/states/flowers/alabama.jpg\n",
      "/home/dimitri/dev/db-programming-with-datajoint/notebooks/stage/states/flowers/arkansas.jpg\n",
      "/home/dimitri/dev/db-programming-with-datajoint/notebooks/stage/states/flowers/arizona.jpg\n",
      "/home/dimitri/dev/db-programming-with-datajoint/notebooks/stage/states/flowers/california.jpg\n",
      "/home/dimitri/dev/db-programming-with-datajoint/notebooks/stage/states/flowers/colorado.jpg\n",
      "/home/dimitri/dev/db-programming-with-datajoint/notebooks/stage/states/flowers/connecticut.jpg\n",
      "/home/dimitri/dev/db-programming-with-datajoint/notebooks/stage/states/flowers/delaware.jpg\n",
      "/home/dimitri/dev/db-programming-with-datajoint/notebooks/stage/states/flowers/florida.jpg\n",
      "/home/dimitri/dev/db-programming-with-datajoint/notebooks/stage/states/flowers/georgia.jpg\n",
      "/home/dimitri/dev/db-programming-with-datajoint/notebooks/stage/states/flowers/hawaii.jpg\n",
      "/home/dimitri/dev/db-programming-with-datajoint/notebooks/stage/states/flowers/iowa.jpg\n",
      "/home/dimitri/dev/db-programming-with-datajoint/notebooks/stage/states/flowers/idaho.jpg\n",
      "/home/dimitri/dev/db-programming-with-datajoint/notebooks/stage/states/flowers/illinois.jpg\n",
      "/home/dimitri/dev/db-programming-with-datajoint/notebooks/stage/states/flowers/indiana.jpg\n",
      "/home/dimitri/dev/db-programming-with-datajoint/notebooks/stage/states/flowers/kansas.jpg\n",
      "/home/dimitri/dev/db-programming-with-datajoint/notebooks/stage/states/flowers/kentucky.jpg\n",
      "/home/dimitri/dev/db-programming-with-datajoint/notebooks/stage/states/flowers/louisiana.jpg\n",
      "/home/dimitri/dev/db-programming-with-datajoint/notebooks/stage/states/flowers/massachusetts.jpg\n",
      "/home/dimitri/dev/db-programming-with-datajoint/notebooks/stage/states/flowers/maryland.jpg\n",
      "/home/dimitri/dev/db-programming-with-datajoint/notebooks/stage/states/flowers/maine.jpg\n",
      "/home/dimitri/dev/db-programming-with-datajoint/notebooks/stage/states/flowers/michigan.jpg\n",
      "/home/dimitri/dev/db-programming-with-datajoint/notebooks/stage/states/flowers/minnesota.jpg\n",
      "/home/dimitri/dev/db-programming-with-datajoint/notebooks/stage/states/flowers/missouri.jpg\n",
      "/home/dimitri/dev/db-programming-with-datajoint/notebooks/stage/states/flowers/mississippi.jpg\n",
      "/home/dimitri/dev/db-programming-with-datajoint/notebooks/stage/states/flowers/montana.jpg\n",
      "/home/dimitri/dev/db-programming-with-datajoint/notebooks/stage/states/flowers/north carolina.jpg\n",
      "/home/dimitri/dev/db-programming-with-datajoint/notebooks/stage/states/flowers/north dakota.jpg\n",
      "/home/dimitri/dev/db-programming-with-datajoint/notebooks/stage/states/flowers/nebraska.jpg\n",
      "/home/dimitri/dev/db-programming-with-datajoint/notebooks/stage/states/flowers/new hampshire.jpg\n",
      "/home/dimitri/dev/db-programming-with-datajoint/notebooks/stage/states/flowers/new jersey.jpg\n",
      "/home/dimitri/dev/db-programming-with-datajoint/notebooks/stage/states/flowers/new mexico.jpg\n",
      "/home/dimitri/dev/db-programming-with-datajoint/notebooks/stage/states/flowers/nevada.jpg\n",
      "/home/dimitri/dev/db-programming-with-datajoint/notebooks/stage/states/flowers/new york.jpg\n",
      "/home/dimitri/dev/db-programming-with-datajoint/notebooks/stage/states/flowers/ohio.jpg\n",
      "/home/dimitri/dev/db-programming-with-datajoint/notebooks/stage/states/flowers/oklahoma.jpg\n",
      "/home/dimitri/dev/db-programming-with-datajoint/notebooks/stage/states/flowers/oregon.jpg\n",
      "/home/dimitri/dev/db-programming-with-datajoint/notebooks/stage/states/flowers/pennsylvania.jpg\n",
      "/home/dimitri/dev/db-programming-with-datajoint/notebooks/stage/states/flowers/rhode island.jpg\n",
      "/home/dimitri/dev/db-programming-with-datajoint/notebooks/stage/states/flowers/south carlina.jpg\n",
      "/home/dimitri/dev/db-programming-with-datajoint/notebooks/stage/states/flowers/south dakota.jpg\n",
      "/home/dimitri/dev/db-programming-with-datajoint/notebooks/stage/states/flowers/tennessee.jpg\n",
      "/home/dimitri/dev/db-programming-with-datajoint/notebooks/stage/states/flowers/texas.jpg\n",
      "/home/dimitri/dev/db-programming-with-datajoint/notebooks/stage/states/flowers/utah.jpg\n",
      "/home/dimitri/dev/db-programming-with-datajoint/notebooks/stage/states/flowers/virginia.jpg\n",
      "/home/dimitri/dev/db-programming-with-datajoint/notebooks/stage/states/flowers/vermont.jpg\n",
      "/home/dimitri/dev/db-programming-with-datajoint/notebooks/stage/states/flowers/washington.jpg\n",
      "/home/dimitri/dev/db-programming-with-datajoint/notebooks/stage/states/flowers/wisconsin.jpg\n",
      "/home/dimitri/dev/db-programming-with-datajoint/notebooks/stage/states/flowers/west virginia.jpg\n",
      "/home/dimitri/dev/db-programming-with-datajoint/notebooks/stage/states/flowers/wyoming.jpg\n"
     ]
    }
   ],
   "source": [
    "StateFlower().populate()"
   ]
  },
  {
   "cell_type": "code",
   "execution_count": null,
   "metadata": {},
   "outputs": [],
   "source": [
    "dj.Diagram(schema)"
   ]
  },
  {
   "cell_type": "code",
   "execution_count": null,
   "metadata": {},
   "outputs": [],
   "source": []
  }
 ],
 "metadata": {
  "kernelspec": {
   "display_name": "Python 3",
   "language": "python",
   "name": "python3"
  },
  "language_info": {
   "codemirror_mode": {
    "name": "ipython",
    "version": 3
   },
   "file_extension": ".py",
   "mimetype": "text/x-python",
   "name": "python",
   "nbconvert_exporter": "python",
   "pygments_lexer": "ipython3",
   "version": "3.6.7"
  }
 },
 "nbformat": 4,
 "nbformat_minor": 2
}
